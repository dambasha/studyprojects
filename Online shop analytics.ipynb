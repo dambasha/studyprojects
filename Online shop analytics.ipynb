{
 "cells": [
  {
   "cell_type": "markdown",
   "metadata": {},
   "source": [
    "<div class=\"alert alert-success\">\n",
    "<b> Комментарий от ревьюера 3</b>\n",
    "\n",
    "Спасибо, что учла мои комментарии. Ты приложила много усилий, чтобы довести проект до конца, надеюсь, что эта работа помогла тебе лучше понять теорию. Я принимаю проект и желаю удачи в прохождении курса!\n",
    "\n",
    "</div>"
   ]
  },
  {
   "cell_type": "markdown",
   "metadata": {},
   "source": [
    "<div class=\"alert alert-success\">\n",
    "<b> Комментарий от ревьюера 2</b>\n",
    "\n",
    "Привет еще раз. Спасибо, что доделала работу. Осталось только немного поправить [графики](#comm1), все остальное получилось хорошо.\n",
    "\n",
    "</div>"
   ]
  },
  {
   "cell_type": "markdown",
   "metadata": {},
   "source": [
    "Привет, Мария.\n",
    "\n",
    "Меня зовут Людмила, и я буду проводить ревью твоего проекта. \n",
    "\n",
    "Предлагаю перейти на «ты», если не против)\n",
    "\n",
    "Но если это не удобно — дай знать, и мы перейдем на «вы». Моя главная задача — не находить сделанные тобою ошибки, а передать свой опыт и помочь тебе стать аналитиком данных.\n",
    "\n",
    "Мои комментарии будут в ячейках «Комментарий от ревьюера».\n",
    "\n",
    "---    \n",
    "<div class=\"alert alert-block alert-danger\">\n",
    "    \n",
    "Критическое замечание, которые следует исправить.\n",
    "</div> \n",
    "    \n",
    "<div class=\"alert alert-block alert-warning\">\n",
    "    \n",
    "Замечание\\совет на будущее.\n",
    "</div>\n",
    "    \n",
    "<div class=\"alert alert-block alert-success\">\n",
    "    \n",
    "Когда всё сделано правильно.\n",
    "</div>\n",
    "    \n",
    "---        \n",
    "    \n",
    "Если ты вносишь изменения в проект по моим рекомендациям, указывай, пожалуйста, это в своих комментариях. Будет удобно, если обозначишь свои комментарии заметным цветом или поместишь \n",
    "\n",
    "<div class=\"alert alert-info\">\n",
    "    \n",
    "в такую ячейку\n",
    "</div>\n",
    "\n",
    "Давай при работе с проектом мы будем общаться с тобой в диалоге, поэтому не удаляй и не перемещай мои комментарии, это поможет мне сделать повторную  проверку проекта быстрее.\n",
    "___"
   ]
  },
  {
   "cell_type": "markdown",
   "metadata": {},
   "source": [
    "# Аналитика интернет магазина\n",
    "\n",
    "Есть список гипотез для увеличения выручки. Нужно приоритизировать гипотезы, запустить A/B-тест и проанализировать результаты. \n",
    "\n",
    "**Данные для приоритизации гипотез:** \n",
    "\n",
    "Файл /datasets/hypothesis.csv\n",
    "\n",
    "Hypothesis — краткое описание гипотезы;\n",
    "Reach — охват пользователей по 10-балльной шкале;\n",
    "Impact — влияние на пользователей по 10-балльной шкале;\n",
    "Confidence — уверенность в гипотезе по 10-балльной шкале;\n",
    "Efforts — затраты ресурсов на проверку гипотезы по 10-балльной шкале. Чем больше значение Efforts, тем дороже проверка гипотезы.\n",
    "\n",
    "План:\n",
    "- Применить фреймворки RICE и ICE.\n",
    "\n",
    "**Данные для анализа А/Б-теста:**\n",
    "\n",
    "Файл /datasets/orders.csv\n",
    "transactionId — идентификатор заказа;\n",
    "visitorId — идентификатор пользователя, совершившего заказ;\n",
    "date — дата, когда был совершён заказ;\n",
    "revenue — выручка заказа;\n",
    "group — группа A/B-теста, в которую попал заказ.\n",
    "\n",
    "\n",
    "Файл /datasets/visitors.csv.\n",
    "date — дата;\n",
    "group — группа A/B-теста;\n",
    "visitors — количество пользователей в указанную дату в указанной группе A/B-теста\n",
    "\n",
    "План:\n",
    "- Посчитать статистическую значимость различий в среднем количестве заказов на посетителя между группами по «сырым» данным. \n",
    "- Посчитать статистическую значимость различий в среднем чеке заказа между группами по «сырым» данным.\n",
    "- Посчитать статистическую значимость различий в среднем количестве заказов на посетителя между группами по «очищенным» данным.\n",
    "- Посчитать статистическую значимость различий в среднем чеке заказа между группами по «очищенным» данным."
   ]
  },
  {
   "cell_type": "markdown",
   "metadata": {},
   "source": [
    "<div class=\"alert alert-warning\">\n",
    "<b>Комментарий ревьюера:</b> Вступление к проекту станет лучше, если ты добавишь описание данных и план работы.\n",
    "Тогда получатель исследования сможет быстрее его понять.\n",
    "\n",
    "</div>"
   ]
  },
  {
   "cell_type": "markdown",
   "metadata": {},
   "source": [
    "<div class=\"alert alert-info\">\n",
    "    \n",
    "Поправила\n",
    "</div>"
   ]
  },
  {
   "cell_type": "markdown",
   "metadata": {},
   "source": [
    "<div class=\"alert alert-warning\">\n",
    "<b>Комментарий ревьюера 2:</b> \n",
    "    \n",
    "Чтобы сделать перенос на следующую строку, надо в конце предыдущей добавить 2 пробела.\n",
    "    \n",
    "Подробнее о возможностях markdown сказано по ссылке:\n",
    "    \n",
    "https://github.com/sandino/Markdown-Cheatsheet\n",
    "\n",
    "</div>"
   ]
  },
  {
   "cell_type": "markdown",
   "metadata": {},
   "source": [
    "## Приоритизация гипотез."
   ]
  },
  {
   "cell_type": "code",
   "execution_count": 1,
   "metadata": {},
   "outputs": [
    {
     "data": {
      "text/html": [
       "<div>\n",
       "<style scoped>\n",
       "    .dataframe tbody tr th:only-of-type {\n",
       "        vertical-align: middle;\n",
       "    }\n",
       "\n",
       "    .dataframe tbody tr th {\n",
       "        vertical-align: top;\n",
       "    }\n",
       "\n",
       "    .dataframe thead th {\n",
       "        text-align: right;\n",
       "    }\n",
       "</style>\n",
       "<table border=\"1\" class=\"dataframe\">\n",
       "  <thead>\n",
       "    <tr style=\"text-align: right;\">\n",
       "      <th></th>\n",
       "      <th>Hypothesis</th>\n",
       "      <th>Reach</th>\n",
       "      <th>Impact</th>\n",
       "      <th>Confidence</th>\n",
       "      <th>Efforts</th>\n",
       "    </tr>\n",
       "  </thead>\n",
       "  <tbody>\n",
       "    <tr>\n",
       "      <th>0</th>\n",
       "      <td>Добавить два новых канала привлечения трафика, что позволит привлекать на 30% больше пользователей</td>\n",
       "      <td>3</td>\n",
       "      <td>10</td>\n",
       "      <td>8</td>\n",
       "      <td>6</td>\n",
       "    </tr>\n",
       "    <tr>\n",
       "      <th>1</th>\n",
       "      <td>Запустить собственную службу доставки, что сократит срок доставки заказов</td>\n",
       "      <td>2</td>\n",
       "      <td>5</td>\n",
       "      <td>4</td>\n",
       "      <td>10</td>\n",
       "    </tr>\n",
       "    <tr>\n",
       "      <th>2</th>\n",
       "      <td>Добавить блоки рекомендаций товаров на сайт интернет магазина, чтобы повысить конверсию и средний чек заказа</td>\n",
       "      <td>8</td>\n",
       "      <td>3</td>\n",
       "      <td>7</td>\n",
       "      <td>3</td>\n",
       "    </tr>\n",
       "    <tr>\n",
       "      <th>3</th>\n",
       "      <td>Изменить структура категорий, что увеличит конверсию, т.к. пользователи быстрее найдут нужный товар</td>\n",
       "      <td>8</td>\n",
       "      <td>3</td>\n",
       "      <td>3</td>\n",
       "      <td>8</td>\n",
       "    </tr>\n",
       "    <tr>\n",
       "      <th>4</th>\n",
       "      <td>Изменить цвет фона главной страницы, чтобы увеличить вовлеченность пользователей</td>\n",
       "      <td>3</td>\n",
       "      <td>1</td>\n",
       "      <td>1</td>\n",
       "      <td>1</td>\n",
       "    </tr>\n",
       "    <tr>\n",
       "      <th>5</th>\n",
       "      <td>Добавить страницу отзывов клиентов о магазине, что позволит увеличить количество заказов</td>\n",
       "      <td>3</td>\n",
       "      <td>2</td>\n",
       "      <td>2</td>\n",
       "      <td>3</td>\n",
       "    </tr>\n",
       "    <tr>\n",
       "      <th>6</th>\n",
       "      <td>Показать на главной странице баннеры с актуальными акциями и распродажами, чтобы увеличить конверсию</td>\n",
       "      <td>5</td>\n",
       "      <td>3</td>\n",
       "      <td>8</td>\n",
       "      <td>3</td>\n",
       "    </tr>\n",
       "    <tr>\n",
       "      <th>7</th>\n",
       "      <td>Добавить форму подписки на все основные страницы, чтобы собрать базу клиентов для email-рассылок</td>\n",
       "      <td>10</td>\n",
       "      <td>7</td>\n",
       "      <td>8</td>\n",
       "      <td>5</td>\n",
       "    </tr>\n",
       "    <tr>\n",
       "      <th>8</th>\n",
       "      <td>Запустить акцию, дающую скидку на товар в день рождения</td>\n",
       "      <td>1</td>\n",
       "      <td>9</td>\n",
       "      <td>9</td>\n",
       "      <td>5</td>\n",
       "    </tr>\n",
       "  </tbody>\n",
       "</table>\n",
       "</div>"
      ],
      "text/plain": [
       "                                                                                                     Hypothesis  \\\n",
       "0            Добавить два новых канала привлечения трафика, что позволит привлекать на 30% больше пользователей   \n",
       "1                                     Запустить собственную службу доставки, что сократит срок доставки заказов   \n",
       "2  Добавить блоки рекомендаций товаров на сайт интернет магазина, чтобы повысить конверсию и средний чек заказа   \n",
       "3           Изменить структура категорий, что увеличит конверсию, т.к. пользователи быстрее найдут нужный товар   \n",
       "4                              Изменить цвет фона главной страницы, чтобы увеличить вовлеченность пользователей   \n",
       "5                      Добавить страницу отзывов клиентов о магазине, что позволит увеличить количество заказов   \n",
       "6          Показать на главной странице баннеры с актуальными акциями и распродажами, чтобы увеличить конверсию   \n",
       "7              Добавить форму подписки на все основные страницы, чтобы собрать базу клиентов для email-рассылок   \n",
       "8                                                       Запустить акцию, дающую скидку на товар в день рождения   \n",
       "\n",
       "   Reach  Impact  Confidence  Efforts  \n",
       "0      3      10           8        6  \n",
       "1      2       5           4       10  \n",
       "2      8       3           7        3  \n",
       "3      8       3           3        8  \n",
       "4      3       1           1        1  \n",
       "5      3       2           2        3  \n",
       "6      5       3           8        3  \n",
       "7     10       7           8        5  \n",
       "8      1       9           9        5  "
      ]
     },
     "execution_count": 1,
     "metadata": {},
     "output_type": "execute_result"
    }
   ],
   "source": [
    "import pandas as pd\n",
    "import numpy as np\n",
    "import datetime as dt\n",
    "import matplotlib.pyplot as plt\n",
    "import scipy.stats as stats\n",
    "\n",
    "hypothesis = pd.read_csv('/datasets/hypothesis.csv')\n",
    "pd.set_option('max_colwidth', 200)\n",
    "hypothesis"
   ]
  },
  {
   "cell_type": "markdown",
   "metadata": {},
   "source": [
    "<div class=\"alert alert-block alert-warning\">\n",
    "    \n",
    "\n",
    "**Комментарий от ревьюера**\n",
    "\n",
    "Удобнее вывести названия гипотез целиком: `pd.set_option('max_colwidth', 200)`\n",
    "    \n",
    "\n",
    "</div>"
   ]
  },
  {
   "cell_type": "markdown",
   "metadata": {},
   "source": [
    "<div class=\"alert alert-info\">\n",
    "    \n",
    "Поправила\n",
    "</div>"
   ]
  },
  {
   "cell_type": "markdown",
   "metadata": {},
   "source": [
    "<div class=\"alert alert-success\">\n",
    "<b> Комментарий от ревьюера 2</b>\n",
    "\n",
    "Молодец, что отредактировала таблицу, теперь можно легко сравнить гипотезы. \n",
    "\n",
    "</div>"
   ]
  },
  {
   "cell_type": "code",
   "execution_count": 2,
   "metadata": {},
   "outputs": [],
   "source": [
    "hypothesis.columns = [x.lower().replace(' ', '_') for x in hypothesis.columns.values]"
   ]
  },
  {
   "cell_type": "code",
   "execution_count": 3,
   "metadata": {},
   "outputs": [
    {
     "data": {
      "text/html": [
       "<div>\n",
       "<style scoped>\n",
       "    .dataframe tbody tr th:only-of-type {\n",
       "        vertical-align: middle;\n",
       "    }\n",
       "\n",
       "    .dataframe tbody tr th {\n",
       "        vertical-align: top;\n",
       "    }\n",
       "\n",
       "    .dataframe thead th {\n",
       "        text-align: right;\n",
       "    }\n",
       "</style>\n",
       "<table border=\"1\" class=\"dataframe\">\n",
       "  <thead>\n",
       "    <tr style=\"text-align: right;\">\n",
       "      <th></th>\n",
       "      <th>hypothesis</th>\n",
       "      <th>ICE</th>\n",
       "    </tr>\n",
       "  </thead>\n",
       "  <tbody>\n",
       "    <tr>\n",
       "      <th>8</th>\n",
       "      <td>Запустить акцию, дающую скидку на товар в день рождения</td>\n",
       "      <td>16.20</td>\n",
       "    </tr>\n",
       "    <tr>\n",
       "      <th>0</th>\n",
       "      <td>Добавить два новых канала привлечения трафика, что позволит привлекать на 30% больше пользователей</td>\n",
       "      <td>13.33</td>\n",
       "    </tr>\n",
       "    <tr>\n",
       "      <th>7</th>\n",
       "      <td>Добавить форму подписки на все основные страницы, чтобы собрать базу клиентов для email-рассылок</td>\n",
       "      <td>11.20</td>\n",
       "    </tr>\n",
       "    <tr>\n",
       "      <th>6</th>\n",
       "      <td>Показать на главной странице баннеры с актуальными акциями и распродажами, чтобы увеличить конверсию</td>\n",
       "      <td>8.00</td>\n",
       "    </tr>\n",
       "    <tr>\n",
       "      <th>2</th>\n",
       "      <td>Добавить блоки рекомендаций товаров на сайт интернет магазина, чтобы повысить конверсию и средний чек заказа</td>\n",
       "      <td>7.00</td>\n",
       "    </tr>\n",
       "    <tr>\n",
       "      <th>1</th>\n",
       "      <td>Запустить собственную службу доставки, что сократит срок доставки заказов</td>\n",
       "      <td>2.00</td>\n",
       "    </tr>\n",
       "    <tr>\n",
       "      <th>5</th>\n",
       "      <td>Добавить страницу отзывов клиентов о магазине, что позволит увеличить количество заказов</td>\n",
       "      <td>1.33</td>\n",
       "    </tr>\n",
       "    <tr>\n",
       "      <th>3</th>\n",
       "      <td>Изменить структура категорий, что увеличит конверсию, т.к. пользователи быстрее найдут нужный товар</td>\n",
       "      <td>1.12</td>\n",
       "    </tr>\n",
       "    <tr>\n",
       "      <th>4</th>\n",
       "      <td>Изменить цвет фона главной страницы, чтобы увеличить вовлеченность пользователей</td>\n",
       "      <td>1.00</td>\n",
       "    </tr>\n",
       "  </tbody>\n",
       "</table>\n",
       "</div>"
      ],
      "text/plain": [
       "                                                                                                     hypothesis  \\\n",
       "8                                                       Запустить акцию, дающую скидку на товар в день рождения   \n",
       "0            Добавить два новых канала привлечения трафика, что позволит привлекать на 30% больше пользователей   \n",
       "7              Добавить форму подписки на все основные страницы, чтобы собрать базу клиентов для email-рассылок   \n",
       "6          Показать на главной странице баннеры с актуальными акциями и распродажами, чтобы увеличить конверсию   \n",
       "2  Добавить блоки рекомендаций товаров на сайт интернет магазина, чтобы повысить конверсию и средний чек заказа   \n",
       "1                                     Запустить собственную службу доставки, что сократит срок доставки заказов   \n",
       "5                      Добавить страницу отзывов клиентов о магазине, что позволит увеличить количество заказов   \n",
       "3           Изменить структура категорий, что увеличит конверсию, т.к. пользователи быстрее найдут нужный товар   \n",
       "4                              Изменить цвет фона главной страницы, чтобы увеличить вовлеченность пользователей   \n",
       "\n",
       "     ICE  \n",
       "8  16.20  \n",
       "0  13.33  \n",
       "7  11.20  \n",
       "6   8.00  \n",
       "2   7.00  \n",
       "1   2.00  \n",
       "5   1.33  \n",
       "3   1.12  \n",
       "4   1.00  "
      ]
     },
     "execution_count": 3,
     "metadata": {},
     "output_type": "execute_result"
    }
   ],
   "source": [
    "hypothesis['ICE'] = (hypothesis['impact'] * hypothesis['confidence']) / hypothesis['efforts']\n",
    "hypothesis['ICE'] = hypothesis['ICE'].round(2)\n",
    "\n",
    "\n",
    "hypothesis[['hypothesis', 'ICE']].sort_values(by='ICE', ascending=False)"
   ]
  },
  {
   "cell_type": "markdown",
   "metadata": {},
   "source": [
    "<div class=\"alert alert-block alert-warning\">\n",
    "    \n",
    "**Комментарий от ревьюера**\n",
    "\n",
    "Лучше округлить значения в колонке ICE до 2 знаков после запятой и убрать print - тогда таблицы будут выглядеть так же, как таблица выше.\n",
    "\n",
    "</div>"
   ]
  },
  {
   "cell_type": "markdown",
   "metadata": {},
   "source": [
    "<div class=\"alert alert-info\">\n",
    "    \n",
    "Поправила\n",
    "</div>"
   ]
  },
  {
   "cell_type": "markdown",
   "metadata": {},
   "source": [
    "<div class=\"alert alert-block alert-success\">\n",
    "    \n",
    "**Комментарий от ревьюера 2**\n",
    "\n",
    "👍\n",
    "</div>"
   ]
  },
  {
   "cell_type": "code",
   "execution_count": 4,
   "metadata": {},
   "outputs": [
    {
     "data": {
      "text/html": [
       "<div>\n",
       "<style scoped>\n",
       "    .dataframe tbody tr th:only-of-type {\n",
       "        vertical-align: middle;\n",
       "    }\n",
       "\n",
       "    .dataframe tbody tr th {\n",
       "        vertical-align: top;\n",
       "    }\n",
       "\n",
       "    .dataframe thead th {\n",
       "        text-align: right;\n",
       "    }\n",
       "</style>\n",
       "<table border=\"1\" class=\"dataframe\">\n",
       "  <thead>\n",
       "    <tr style=\"text-align: right;\">\n",
       "      <th></th>\n",
       "      <th>hypothesis</th>\n",
       "      <th>RICE</th>\n",
       "    </tr>\n",
       "  </thead>\n",
       "  <tbody>\n",
       "    <tr>\n",
       "      <th>7</th>\n",
       "      <td>Добавить форму подписки на все основные страницы, чтобы собрать базу клиентов для email-рассылок</td>\n",
       "      <td>112.0</td>\n",
       "    </tr>\n",
       "    <tr>\n",
       "      <th>2</th>\n",
       "      <td>Добавить блоки рекомендаций товаров на сайт интернет магазина, чтобы повысить конверсию и средний чек заказа</td>\n",
       "      <td>56.0</td>\n",
       "    </tr>\n",
       "    <tr>\n",
       "      <th>0</th>\n",
       "      <td>Добавить два новых канала привлечения трафика, что позволит привлекать на 30% больше пользователей</td>\n",
       "      <td>40.0</td>\n",
       "    </tr>\n",
       "    <tr>\n",
       "      <th>6</th>\n",
       "      <td>Показать на главной странице баннеры с актуальными акциями и распродажами, чтобы увеличить конверсию</td>\n",
       "      <td>40.0</td>\n",
       "    </tr>\n",
       "    <tr>\n",
       "      <th>8</th>\n",
       "      <td>Запустить акцию, дающую скидку на товар в день рождения</td>\n",
       "      <td>16.2</td>\n",
       "    </tr>\n",
       "    <tr>\n",
       "      <th>3</th>\n",
       "      <td>Изменить структура категорий, что увеличит конверсию, т.к. пользователи быстрее найдут нужный товар</td>\n",
       "      <td>9.0</td>\n",
       "    </tr>\n",
       "    <tr>\n",
       "      <th>1</th>\n",
       "      <td>Запустить собственную службу доставки, что сократит срок доставки заказов</td>\n",
       "      <td>4.0</td>\n",
       "    </tr>\n",
       "    <tr>\n",
       "      <th>5</th>\n",
       "      <td>Добавить страницу отзывов клиентов о магазине, что позволит увеличить количество заказов</td>\n",
       "      <td>4.0</td>\n",
       "    </tr>\n",
       "    <tr>\n",
       "      <th>4</th>\n",
       "      <td>Изменить цвет фона главной страницы, чтобы увеличить вовлеченность пользователей</td>\n",
       "      <td>3.0</td>\n",
       "    </tr>\n",
       "  </tbody>\n",
       "</table>\n",
       "</div>"
      ],
      "text/plain": [
       "                                                                                                     hypothesis  \\\n",
       "7              Добавить форму подписки на все основные страницы, чтобы собрать базу клиентов для email-рассылок   \n",
       "2  Добавить блоки рекомендаций товаров на сайт интернет магазина, чтобы повысить конверсию и средний чек заказа   \n",
       "0            Добавить два новых канала привлечения трафика, что позволит привлекать на 30% больше пользователей   \n",
       "6          Показать на главной странице баннеры с актуальными акциями и распродажами, чтобы увеличить конверсию   \n",
       "8                                                       Запустить акцию, дающую скидку на товар в день рождения   \n",
       "3           Изменить структура категорий, что увеличит конверсию, т.к. пользователи быстрее найдут нужный товар   \n",
       "1                                     Запустить собственную службу доставки, что сократит срок доставки заказов   \n",
       "5                      Добавить страницу отзывов клиентов о магазине, что позволит увеличить количество заказов   \n",
       "4                              Изменить цвет фона главной страницы, чтобы увеличить вовлеченность пользователей   \n",
       "\n",
       "    RICE  \n",
       "7  112.0  \n",
       "2   56.0  \n",
       "0   40.0  \n",
       "6   40.0  \n",
       "8   16.2  \n",
       "3    9.0  \n",
       "1    4.0  \n",
       "5    4.0  \n",
       "4    3.0  "
      ]
     },
     "execution_count": 4,
     "metadata": {},
     "output_type": "execute_result"
    }
   ],
   "source": [
    "hypothesis['RICE'] = (hypothesis['reach'] * hypothesis['impact'] * hypothesis['confidence'])/ hypothesis['efforts']\n",
    "\n",
    "hypothesis[['hypothesis', 'RICE']].sort_values(by='RICE', ascending=False)"
   ]
  },
  {
   "cell_type": "markdown",
   "metadata": {},
   "source": [
    "<div class=\"alert alert-block alert-success\">\n",
    "    \n",
    "**Комментарий от ревьюера**\n",
    "\n",
    "Молодец, что выводишь таблицу дважды, каждый раз с сортировкой по одному из фреймворков - так различия в их работе максимально наглядны.\n",
    "</div>"
   ]
  },
  {
   "cell_type": "markdown",
   "metadata": {},
   "source": [
    "Результат приоритизации изменился после применения RICE вместо ICE, потому что при расчете приоритета начали учитывать охват пользователей.\n",
    "\n",
    "Теперь учитывается не только, насколько сильно повлияет изменение на пользователей и насколько мы в этом уверены, но и то, скольких пользователей это затронет."
   ]
  },
  {
   "cell_type": "markdown",
   "metadata": {},
   "source": [
    "Будем тестировать гипотезу \"Добавить блоки рекомендаций товаров на сайт интернет магазина, чтобы повысить конверсию и средний чек заказа\"."
   ]
  },
  {
   "cell_type": "markdown",
   "metadata": {},
   "source": [
    "<div class=\"alert alert-block alert-warning\">\n",
    "    \n",
    "\n",
    "**Комментарий от ревьюера**\n",
    "\n",
    "Здесь можно выбрать гипотезу, которую мы будем тестировать первой, чтобы между частями проекта была логическая связь.\n",
    "\n",
    "</div>"
   ]
  },
  {
   "cell_type": "markdown",
   "metadata": {},
   "source": [
    "<div class=\"alert alert-info\">\n",
    "    \n",
    "Поправила\n",
    "</div>"
   ]
  },
  {
   "cell_type": "markdown",
   "metadata": {},
   "source": [
    "<div class=\"alert alert-block alert-success\">\n",
    "<b>Комментарий ревьюера 2:</b> Здорово, теперь в выводе есть все что нужно.\n",
    "</div>"
   ]
  },
  {
   "cell_type": "markdown",
   "metadata": {},
   "source": [
    "## Анализ A/B-теста."
   ]
  },
  {
   "cell_type": "markdown",
   "metadata": {},
   "source": [
    "### Постройте график кумулятивной выручки по группам. Сделайте выводы и предположения."
   ]
  },
  {
   "cell_type": "code",
   "execution_count": 5,
   "metadata": {},
   "outputs": [
    {
     "data": {
      "text/html": [
       "<div>\n",
       "<style scoped>\n",
       "    .dataframe tbody tr th:only-of-type {\n",
       "        vertical-align: middle;\n",
       "    }\n",
       "\n",
       "    .dataframe tbody tr th {\n",
       "        vertical-align: top;\n",
       "    }\n",
       "\n",
       "    .dataframe thead th {\n",
       "        text-align: right;\n",
       "    }\n",
       "</style>\n",
       "<table border=\"1\" class=\"dataframe\">\n",
       "  <thead>\n",
       "    <tr style=\"text-align: right;\">\n",
       "      <th></th>\n",
       "      <th>transactionId</th>\n",
       "      <th>visitorId</th>\n",
       "      <th>date</th>\n",
       "      <th>revenue</th>\n",
       "      <th>group</th>\n",
       "    </tr>\n",
       "  </thead>\n",
       "  <tbody>\n",
       "    <tr>\n",
       "      <th>0</th>\n",
       "      <td>3667963787</td>\n",
       "      <td>3312258926</td>\n",
       "      <td>2019-08-15</td>\n",
       "      <td>1650</td>\n",
       "      <td>B</td>\n",
       "    </tr>\n",
       "    <tr>\n",
       "      <th>1</th>\n",
       "      <td>2804400009</td>\n",
       "      <td>3642806036</td>\n",
       "      <td>2019-08-15</td>\n",
       "      <td>730</td>\n",
       "      <td>B</td>\n",
       "    </tr>\n",
       "    <tr>\n",
       "      <th>2</th>\n",
       "      <td>2961555356</td>\n",
       "      <td>4069496402</td>\n",
       "      <td>2019-08-15</td>\n",
       "      <td>400</td>\n",
       "      <td>A</td>\n",
       "    </tr>\n",
       "    <tr>\n",
       "      <th>3</th>\n",
       "      <td>3797467345</td>\n",
       "      <td>1196621759</td>\n",
       "      <td>2019-08-15</td>\n",
       "      <td>9759</td>\n",
       "      <td>B</td>\n",
       "    </tr>\n",
       "    <tr>\n",
       "      <th>4</th>\n",
       "      <td>2282983706</td>\n",
       "      <td>2322279887</td>\n",
       "      <td>2019-08-15</td>\n",
       "      <td>2308</td>\n",
       "      <td>B</td>\n",
       "    </tr>\n",
       "    <tr>\n",
       "      <th>...</th>\n",
       "      <td>...</td>\n",
       "      <td>...</td>\n",
       "      <td>...</td>\n",
       "      <td>...</td>\n",
       "      <td>...</td>\n",
       "    </tr>\n",
       "    <tr>\n",
       "      <th>1192</th>\n",
       "      <td>2662137336</td>\n",
       "      <td>3733762160</td>\n",
       "      <td>2019-08-14</td>\n",
       "      <td>6490</td>\n",
       "      <td>B</td>\n",
       "    </tr>\n",
       "    <tr>\n",
       "      <th>1193</th>\n",
       "      <td>2203539145</td>\n",
       "      <td>370388673</td>\n",
       "      <td>2019-08-14</td>\n",
       "      <td>3190</td>\n",
       "      <td>A</td>\n",
       "    </tr>\n",
       "    <tr>\n",
       "      <th>1194</th>\n",
       "      <td>1807773912</td>\n",
       "      <td>573423106</td>\n",
       "      <td>2019-08-14</td>\n",
       "      <td>10550</td>\n",
       "      <td>A</td>\n",
       "    </tr>\n",
       "    <tr>\n",
       "      <th>1195</th>\n",
       "      <td>1947021204</td>\n",
       "      <td>1614305549</td>\n",
       "      <td>2019-08-14</td>\n",
       "      <td>100</td>\n",
       "      <td>A</td>\n",
       "    </tr>\n",
       "    <tr>\n",
       "      <th>1196</th>\n",
       "      <td>3936777065</td>\n",
       "      <td>2108080724</td>\n",
       "      <td>2019-08-15</td>\n",
       "      <td>202740</td>\n",
       "      <td>B</td>\n",
       "    </tr>\n",
       "  </tbody>\n",
       "</table>\n",
       "<p>1197 rows × 5 columns</p>\n",
       "</div>"
      ],
      "text/plain": [
       "      transactionId   visitorId        date  revenue group\n",
       "0        3667963787  3312258926  2019-08-15     1650     B\n",
       "1        2804400009  3642806036  2019-08-15      730     B\n",
       "2        2961555356  4069496402  2019-08-15      400     A\n",
       "3        3797467345  1196621759  2019-08-15     9759     B\n",
       "4        2282983706  2322279887  2019-08-15     2308     B\n",
       "...             ...         ...         ...      ...   ...\n",
       "1192     2662137336  3733762160  2019-08-14     6490     B\n",
       "1193     2203539145   370388673  2019-08-14     3190     A\n",
       "1194     1807773912   573423106  2019-08-14    10550     A\n",
       "1195     1947021204  1614305549  2019-08-14      100     A\n",
       "1196     3936777065  2108080724  2019-08-15   202740     B\n",
       "\n",
       "[1197 rows x 5 columns]"
      ]
     },
     "execution_count": 5,
     "metadata": {},
     "output_type": "execute_result"
    }
   ],
   "source": [
    "orders = pd.read_csv('/datasets/orders.csv')\n",
    "orders"
   ]
  },
  {
   "cell_type": "code",
   "execution_count": 6,
   "metadata": {},
   "outputs": [
    {
     "name": "stdout",
     "output_type": "stream",
     "text": [
      "<class 'pandas.core.frame.DataFrame'>\n",
      "RangeIndex: 1197 entries, 0 to 1196\n",
      "Data columns (total 5 columns):\n",
      " #   Column         Non-Null Count  Dtype \n",
      "---  ------         --------------  ----- \n",
      " 0   transactionId  1197 non-null   int64 \n",
      " 1   visitorId      1197 non-null   int64 \n",
      " 2   date           1197 non-null   object\n",
      " 3   revenue        1197 non-null   int64 \n",
      " 4   group          1197 non-null   object\n",
      "dtypes: int64(3), object(2)\n",
      "memory usage: 46.9+ KB\n"
     ]
    }
   ],
   "source": [
    "orders.info()"
   ]
  },
  {
   "cell_type": "code",
   "execution_count": 7,
   "metadata": {},
   "outputs": [
    {
     "data": {
      "text/plain": [
       "0"
      ]
     },
     "execution_count": 7,
     "metadata": {},
     "output_type": "execute_result"
    }
   ],
   "source": [
    "orders.duplicated().sum()"
   ]
  },
  {
   "cell_type": "markdown",
   "metadata": {},
   "source": [
    "В таблице orders нет пропусков и дубликатов."
   ]
  },
  {
   "cell_type": "code",
   "execution_count": 8,
   "metadata": {},
   "outputs": [
    {
     "data": {
      "text/html": [
       "<div>\n",
       "<style scoped>\n",
       "    .dataframe tbody tr th:only-of-type {\n",
       "        vertical-align: middle;\n",
       "    }\n",
       "\n",
       "    .dataframe tbody tr th {\n",
       "        vertical-align: top;\n",
       "    }\n",
       "\n",
       "    .dataframe thead th {\n",
       "        text-align: right;\n",
       "    }\n",
       "</style>\n",
       "<table border=\"1\" class=\"dataframe\">\n",
       "  <thead>\n",
       "    <tr style=\"text-align: right;\">\n",
       "      <th></th>\n",
       "      <th>date</th>\n",
       "      <th>group</th>\n",
       "      <th>visitors</th>\n",
       "    </tr>\n",
       "  </thead>\n",
       "  <tbody>\n",
       "    <tr>\n",
       "      <th>0</th>\n",
       "      <td>2019-08-01</td>\n",
       "      <td>A</td>\n",
       "      <td>719</td>\n",
       "    </tr>\n",
       "    <tr>\n",
       "      <th>1</th>\n",
       "      <td>2019-08-02</td>\n",
       "      <td>A</td>\n",
       "      <td>619</td>\n",
       "    </tr>\n",
       "    <tr>\n",
       "      <th>2</th>\n",
       "      <td>2019-08-03</td>\n",
       "      <td>A</td>\n",
       "      <td>507</td>\n",
       "    </tr>\n",
       "    <tr>\n",
       "      <th>3</th>\n",
       "      <td>2019-08-04</td>\n",
       "      <td>A</td>\n",
       "      <td>717</td>\n",
       "    </tr>\n",
       "    <tr>\n",
       "      <th>4</th>\n",
       "      <td>2019-08-05</td>\n",
       "      <td>A</td>\n",
       "      <td>756</td>\n",
       "    </tr>\n",
       "    <tr>\n",
       "      <th>...</th>\n",
       "      <td>...</td>\n",
       "      <td>...</td>\n",
       "      <td>...</td>\n",
       "    </tr>\n",
       "    <tr>\n",
       "      <th>57</th>\n",
       "      <td>2019-08-27</td>\n",
       "      <td>B</td>\n",
       "      <td>720</td>\n",
       "    </tr>\n",
       "    <tr>\n",
       "      <th>58</th>\n",
       "      <td>2019-08-28</td>\n",
       "      <td>B</td>\n",
       "      <td>654</td>\n",
       "    </tr>\n",
       "    <tr>\n",
       "      <th>59</th>\n",
       "      <td>2019-08-29</td>\n",
       "      <td>B</td>\n",
       "      <td>531</td>\n",
       "    </tr>\n",
       "    <tr>\n",
       "      <th>60</th>\n",
       "      <td>2019-08-30</td>\n",
       "      <td>B</td>\n",
       "      <td>490</td>\n",
       "    </tr>\n",
       "    <tr>\n",
       "      <th>61</th>\n",
       "      <td>2019-08-31</td>\n",
       "      <td>B</td>\n",
       "      <td>718</td>\n",
       "    </tr>\n",
       "  </tbody>\n",
       "</table>\n",
       "<p>62 rows × 3 columns</p>\n",
       "</div>"
      ],
      "text/plain": [
       "          date group  visitors\n",
       "0   2019-08-01     A       719\n",
       "1   2019-08-02     A       619\n",
       "2   2019-08-03     A       507\n",
       "3   2019-08-04     A       717\n",
       "4   2019-08-05     A       756\n",
       "..         ...   ...       ...\n",
       "57  2019-08-27     B       720\n",
       "58  2019-08-28     B       654\n",
       "59  2019-08-29     B       531\n",
       "60  2019-08-30     B       490\n",
       "61  2019-08-31     B       718\n",
       "\n",
       "[62 rows x 3 columns]"
      ]
     },
     "execution_count": 8,
     "metadata": {},
     "output_type": "execute_result"
    }
   ],
   "source": [
    "visitors = pd.read_csv('/datasets/visitors.csv')\n",
    "visitors"
   ]
  },
  {
   "cell_type": "code",
   "execution_count": 9,
   "metadata": {},
   "outputs": [
    {
     "name": "stdout",
     "output_type": "stream",
     "text": [
      "<class 'pandas.core.frame.DataFrame'>\n",
      "RangeIndex: 62 entries, 0 to 61\n",
      "Data columns (total 3 columns):\n",
      " #   Column    Non-Null Count  Dtype \n",
      "---  ------    --------------  ----- \n",
      " 0   date      62 non-null     object\n",
      " 1   group     62 non-null     object\n",
      " 2   visitors  62 non-null     int64 \n",
      "dtypes: int64(1), object(2)\n",
      "memory usage: 1.6+ KB\n"
     ]
    }
   ],
   "source": [
    "visitors.info()"
   ]
  },
  {
   "cell_type": "code",
   "execution_count": 10,
   "metadata": {},
   "outputs": [
    {
     "data": {
      "text/plain": [
       "0"
      ]
     },
     "execution_count": 10,
     "metadata": {},
     "output_type": "execute_result"
    }
   ],
   "source": [
    "visitors.duplicated().sum()"
   ]
  },
  {
   "cell_type": "markdown",
   "metadata": {},
   "source": [
    "В таблице visitors нет пропусков и дубликатов."
   ]
  },
  {
   "cell_type": "markdown",
   "metadata": {},
   "source": [
    "<div class=\"alert alert-block alert-danger\">\n",
    "    \n",
    "**Комментарий от ревьюера**\n",
    "    \n",
    "При знакомстве с данными нам нужно еще выполнить проверку на пропуски и дубликаты.\n",
    "</div>"
   ]
  },
  {
   "cell_type": "markdown",
   "metadata": {},
   "source": [
    "<div class=\"alert alert-info\">\n",
    "    \n",
    "Поправила\n",
    "</div>"
   ]
  },
  {
   "cell_type": "markdown",
   "metadata": {},
   "source": [
    "<div class=\"alert alert-block alert-success\">\n",
    "<b>Комментарий ревьюера 2:</b> Отлично, теперь у нас есть все обязательные проверки.\n",
    "</div>"
   ]
  },
  {
   "cell_type": "markdown",
   "metadata": {},
   "source": [
    "<div class=\"alert alert-block alert-warning\">\n",
    "    \n",
    "**Комментарий от ревьюера**\n",
    "\n",
    "Полезно также выполнить проверку, не попадают ли какие-то пользователи в обе группы - по таблице с заказами.\n",
    "\n",
    "</div>"
   ]
  },
  {
   "cell_type": "code",
   "execution_count": 11,
   "metadata": {},
   "outputs": [
    {
     "name": "stdout",
     "output_type": "stream",
     "text": [
      "<class 'pandas.core.frame.DataFrame'>\n",
      "RangeIndex: 58 entries, 0 to 57\n",
      "Data columns (total 2 columns):\n",
      " #   Column     Non-Null Count  Dtype\n",
      "---  ------     --------------  -----\n",
      " 0   visitorId  58 non-null     int64\n",
      " 1   group      58 non-null     int64\n",
      "dtypes: int64(2)\n",
      "memory usage: 1.0 KB\n"
     ]
    }
   ],
   "source": [
    "orders_2_groups = orders.groupby('visitorId').agg({'group': 'nunique'}).sort_values(by='group', ascending=False)\n",
    "orders_2_groups = orders_2_groups[orders_2_groups['group'] >=2].reset_index()\n",
    "orders_2 = orders_2_groups['visitorId'].to_list()\n",
    "orders_2_groups.info()"
   ]
  },
  {
   "cell_type": "code",
   "execution_count": 12,
   "metadata": {},
   "outputs": [],
   "source": [
    "orders = orders.query('visitorId not in @orders_2')"
   ]
  },
  {
   "cell_type": "code",
   "execution_count": 13,
   "metadata": {},
   "outputs": [
    {
     "data": {
      "text/html": [
       "<div>\n",
       "<style scoped>\n",
       "    .dataframe tbody tr th:only-of-type {\n",
       "        vertical-align: middle;\n",
       "    }\n",
       "\n",
       "    .dataframe tbody tr th {\n",
       "        vertical-align: top;\n",
       "    }\n",
       "\n",
       "    .dataframe thead th {\n",
       "        text-align: right;\n",
       "    }\n",
       "</style>\n",
       "<table border=\"1\" class=\"dataframe\">\n",
       "  <thead>\n",
       "    <tr style=\"text-align: right;\">\n",
       "      <th></th>\n",
       "      <th>transactionId</th>\n",
       "      <th>visitorId</th>\n",
       "      <th>date</th>\n",
       "      <th>revenue</th>\n",
       "      <th>group</th>\n",
       "    </tr>\n",
       "  </thead>\n",
       "  <tbody>\n",
       "    <tr>\n",
       "      <th>0</th>\n",
       "      <td>3667963787</td>\n",
       "      <td>3312258926</td>\n",
       "      <td>2019-08-15</td>\n",
       "      <td>1650</td>\n",
       "      <td>B</td>\n",
       "    </tr>\n",
       "    <tr>\n",
       "      <th>1</th>\n",
       "      <td>2804400009</td>\n",
       "      <td>3642806036</td>\n",
       "      <td>2019-08-15</td>\n",
       "      <td>730</td>\n",
       "      <td>B</td>\n",
       "    </tr>\n",
       "    <tr>\n",
       "      <th>3</th>\n",
       "      <td>3797467345</td>\n",
       "      <td>1196621759</td>\n",
       "      <td>2019-08-15</td>\n",
       "      <td>9759</td>\n",
       "      <td>B</td>\n",
       "    </tr>\n",
       "    <tr>\n",
       "      <th>4</th>\n",
       "      <td>2282983706</td>\n",
       "      <td>2322279887</td>\n",
       "      <td>2019-08-15</td>\n",
       "      <td>2308</td>\n",
       "      <td>B</td>\n",
       "    </tr>\n",
       "    <tr>\n",
       "      <th>5</th>\n",
       "      <td>182168103</td>\n",
       "      <td>935554773</td>\n",
       "      <td>2019-08-15</td>\n",
       "      <td>2210</td>\n",
       "      <td>B</td>\n",
       "    </tr>\n",
       "    <tr>\n",
       "      <th>...</th>\n",
       "      <td>...</td>\n",
       "      <td>...</td>\n",
       "      <td>...</td>\n",
       "      <td>...</td>\n",
       "      <td>...</td>\n",
       "    </tr>\n",
       "    <tr>\n",
       "      <th>1191</th>\n",
       "      <td>3592955527</td>\n",
       "      <td>608641596</td>\n",
       "      <td>2019-08-14</td>\n",
       "      <td>16490</td>\n",
       "      <td>B</td>\n",
       "    </tr>\n",
       "    <tr>\n",
       "      <th>1192</th>\n",
       "      <td>2662137336</td>\n",
       "      <td>3733762160</td>\n",
       "      <td>2019-08-14</td>\n",
       "      <td>6490</td>\n",
       "      <td>B</td>\n",
       "    </tr>\n",
       "    <tr>\n",
       "      <th>1193</th>\n",
       "      <td>2203539145</td>\n",
       "      <td>370388673</td>\n",
       "      <td>2019-08-14</td>\n",
       "      <td>3190</td>\n",
       "      <td>A</td>\n",
       "    </tr>\n",
       "    <tr>\n",
       "      <th>1194</th>\n",
       "      <td>1807773912</td>\n",
       "      <td>573423106</td>\n",
       "      <td>2019-08-14</td>\n",
       "      <td>10550</td>\n",
       "      <td>A</td>\n",
       "    </tr>\n",
       "    <tr>\n",
       "      <th>1196</th>\n",
       "      <td>3936777065</td>\n",
       "      <td>2108080724</td>\n",
       "      <td>2019-08-15</td>\n",
       "      <td>202740</td>\n",
       "      <td>B</td>\n",
       "    </tr>\n",
       "  </tbody>\n",
       "</table>\n",
       "<p>1016 rows × 5 columns</p>\n",
       "</div>"
      ],
      "text/plain": [
       "      transactionId   visitorId        date  revenue group\n",
       "0        3667963787  3312258926  2019-08-15     1650     B\n",
       "1        2804400009  3642806036  2019-08-15      730     B\n",
       "3        3797467345  1196621759  2019-08-15     9759     B\n",
       "4        2282983706  2322279887  2019-08-15     2308     B\n",
       "5         182168103   935554773  2019-08-15     2210     B\n",
       "...             ...         ...         ...      ...   ...\n",
       "1191     3592955527   608641596  2019-08-14    16490     B\n",
       "1192     2662137336  3733762160  2019-08-14     6490     B\n",
       "1193     2203539145   370388673  2019-08-14     3190     A\n",
       "1194     1807773912   573423106  2019-08-14    10550     A\n",
       "1196     3936777065  2108080724  2019-08-15   202740     B\n",
       "\n",
       "[1016 rows x 5 columns]"
      ]
     },
     "execution_count": 13,
     "metadata": {},
     "output_type": "execute_result"
    }
   ],
   "source": [
    "orders"
   ]
  },
  {
   "cell_type": "markdown",
   "metadata": {},
   "source": [
    "<div class=\"alert alert-info\">\n",
    "    \n",
    "Выполнила проверку, не попадают ли какие-то пользователи в обе группы - по таблице с заказами. Оказалось, что попадают, удалила записи с такими пользователями.\n",
    "</div>"
   ]
  },
  {
   "cell_type": "markdown",
   "metadata": {},
   "source": [
    "<div class=\"alert alert-block alert-warning\">\n",
    "    \n",
    "**Комментарий от ревьюера 2**\n",
    "    \n",
    "Это важная проверка, которую надо проводить перед тестированием, но в нашем случае пользователей можно оставить в таблице. Поскольку таблица с визитами у нас содержит уже агрегированные данные, то мы не сможем удалить из нее этих пользователей.\n",
    "\n",
    "</div>"
   ]
  },
  {
   "cell_type": "code",
   "execution_count": 14,
   "metadata": {},
   "outputs": [
    {
     "name": "stdout",
     "output_type": "stream",
     "text": [
      "         date group  orders  buyers  revenue  visitors  conversion\n",
      "0  2019-08-01     A      23      19   142779       719    0.031989\n",
      "1  2019-08-01     B      17      17    59758       713    0.023843\n",
      "2  2019-08-02     A      42      36   234381      1338    0.031390\n",
      "3  2019-08-02     B      40      39   221801      1294    0.030912\n",
      "4  2019-08-03     A      66      60   346854      1845    0.035772\n"
     ]
    }
   ],
   "source": [
    "datesGroups = orders[['date','group']].drop_duplicates() \n",
    "\n",
    "ordersAggregated = datesGroups.apply(lambda x: orders[np.logical_and(orders['date'] <= x['date'], orders['group'] == x['group'])]\\\n",
    ".agg({'date' : 'max', 'group' : 'max', 'transactionId' : 'nunique', 'visitorId' : 'nunique', 'revenue' : 'sum'}), axis=1).sort_values(by=['date','group'])\n",
    "\n",
    "visitorsAggregated = datesGroups.apply(lambda x: visitors[np.logical_and(visitors['date'] <= x['date'], visitors['group'] == x['group'])].agg({'date' : 'max', 'group' : 'max', 'visitors' : 'sum'}), axis=1).sort_values(by=['date','group']) \n",
    "\n",
    "cumulativeData = ordersAggregated.merge(visitorsAggregated, left_on=['date', 'group'], right_on=['date', 'group'])\n",
    "\n",
    "cumulativeData.columns = ['date', 'group', 'orders', 'buyers', 'revenue', 'visitors']\n",
    "\n",
    "cumulativeData['conversion'] = cumulativeData['orders']/cumulativeData['visitors']\n",
    "\n",
    "print(cumulativeData.head(5)) "
   ]
  },
  {
   "cell_type": "code",
   "execution_count": 15,
   "metadata": {},
   "outputs": [
    {
     "name": "stdout",
     "output_type": "stream",
     "text": [
      "\n"
     ]
    },
    {
     "data": {
      "image/png": "[encoded data removed]",
      "text/plain": [
       "<Figure size 1080x720 with 1 Axes>"
      ]
     },
     "metadata": {
      "needs_background": "light"
     },
     "output_type": "display_data"
    }
   ],
   "source": [
    "cumulativeRevenueA = cumulativeData[cumulativeData['group']=='A'][['date','revenue', 'orders']]\n",
    "\n",
    "cumulativeRevenueB = cumulativeData[cumulativeData['group']=='B'][['date','revenue', 'orders']]\n",
    "\n",
    "cumulativeRevenueA['date'] = pd.to_datetime(cumulativeRevenueA['date'])\n",
    "cumulativeRevenueB['date'] = pd.to_datetime(cumulativeRevenueB['date'])\n",
    "\n",
    "\n",
    "\n",
    "plt.figure(figsize=(15, 10))\n",
    "plt.ylabel('Выручка')\n",
    "plt.plot(cumulativeRevenueA['date'], cumulativeRevenueA['revenue'], label='A')\n",
    "\n",
    "plt.plot(cumulativeRevenueB['date'], cumulativeRevenueB['revenue'], label='B')\n",
    "\n",
    "plt.legend()\n",
    "\n",
    "plt.xticks(rotation=45)\n",
    "plt.title('Кумулятивная выручка по группам')\n",
    "\n",
    "print()"
   ]
  },
  {
   "cell_type": "markdown",
   "metadata": {},
   "source": [
    "<div class=\"alert alert-block alert-danger\">\n",
    "    \n",
    "\n",
    "**Комментарий от ревьюера**\n",
    "\n",
    "Стоит немного увеличить размер графика (чтобы для дат было достаточно места) и добавить подписи осей. Перед следующими графиками сохранилась также текстовая строка, а у точечных графиков нет названия и подписей осей - это тоже надо поправить.\n",
    "</div>"
   ]
  },
  {
   "cell_type": "markdown",
   "metadata": {},
   "source": [
    "<div class=\"alert alert-info\">\n",
    "    \n",
    "Увеличила размер графика, добавила подпись оси Y, оси X подпись излишна, мне кажется.\n",
    "</div>"
   ]
  },
  {
   "cell_type": "markdown",
   "metadata": {},
   "source": [
    "<div class=\"alert alert-block alert-success\">\n",
    "    \n",
    "**Комментарий от ревьюера 2**\n",
    "\n",
    "Да, с осью Х все очевидно.\n",
    "</div>"
   ]
  },
  {
   "cell_type": "markdown",
   "metadata": {},
   "source": [
    "До 05.08 разницы между группами почти не было. Далее разница между группами становится всё более значительной. 13.08 выручка была одинаковой, после этого выручка группы B стремительно росла по сравнению с группой A.\n",
    "\n",
    "Возможно, резкий рост связан с аномалиями / какими-то внешними событиями, что вряд ли / версия сайта для группы B стала работать не так, как мы закладывали (например, начала выдавать большую скидку или сильно зафорсилась в интернете)"
   ]
  },
  {
   "cell_type": "markdown",
   "metadata": {},
   "source": [
    "<div class=\"alert alert-block alert-warning\">\n",
    "    \n",
    "**Комментарий от ревьюера**\n",
    "\n",
    "Здесь можно добавить предположение, чем мог быть вызван рост выручки в группе В.\n",
    "</div>"
   ]
  },
  {
   "cell_type": "markdown",
   "metadata": {},
   "source": [
    "<div class=\"alert alert-info\">\n",
    "    \n",
    "Добавила свои предположения.\n",
    "</div>"
   ]
  },
  {
   "cell_type": "markdown",
   "metadata": {},
   "source": [
    "<div class=\"alert alert-block alert-success\">\n",
    "    \n",
    "**Комментарий от ревьюера 2**\n",
    "\n",
    "Верно, пока мы не знаем, с чем связан скачок в группе B.\n",
    "</div>"
   ]
  },
  {
   "cell_type": "markdown",
   "metadata": {},
   "source": [
    "### Постройте график кумулятивного среднего чека по группам. Сделайте выводы и предположения."
   ]
  },
  {
   "cell_type": "markdown",
   "metadata": {},
   "source": [
    "<a id=\"comm1\"></a>\n",
    "<div class=\"alert alert-block alert-danger\">\n",
    "    \n",
    "**Комментарий от ревьюера 2**\n",
    "\n",
    "Для всех графиков далее надо тоже убрать текстовую строку. Для этого можно последней строкой в ячейку добавить plt.show(), либо просто добавить ; в конце последней строки.\n",
    "</div>"
   ]
  },
  {
   "cell_type": "markdown",
   "metadata": {},
   "source": [
    "<div class=\"alert alert-info\">\n",
    "    \n",
    "Убрала\n",
    "</div>"
   ]
  },
  {
   "cell_type": "code",
   "execution_count": 16,
   "metadata": {},
   "outputs": [
    {
     "data": {
      "image/png": "[encoded data removed]",
      "text/plain": [
       "<Figure size 1080x720 with 1 Axes>"
      ]
     },
     "metadata": {
      "needs_background": "light"
     },
     "output_type": "display_data"
    }
   ],
   "source": [
    "plt.figure(figsize=(15, 10))\n",
    "plt.ylabel('Количество заказов')\n",
    "plt.plot(cumulativeRevenueA['date'], cumulativeRevenueA['revenue']/cumulativeRevenueA['orders'], label='A')\n",
    "plt.plot(cumulativeRevenueB['date'], cumulativeRevenueB['revenue']/cumulativeRevenueB['orders'], label='B')\n",
    "plt.legend()\n",
    "plt.xticks(rotation=45)\n",
    "plt.title('Кумулятивный средний чек по группам');"
   ]
  },
  {
   "cell_type": "markdown",
   "metadata": {},
   "source": [
    "Изначально средний чек у группы B был меньше чека из группы A. Далее чек из группы B резко вырос 17.08 и начал постепенно уменьшаться, но оставался существенно выше, чем у группы A."
   ]
  },
  {
   "cell_type": "markdown",
   "metadata": {},
   "source": [
    "<div class=\"alert alert-block alert-success\">\n",
    "    \n",
    "**Комментарий от ревьюера**\n",
    "    \n",
    "Да, резкий рост происходит в ту же дату, что и на предыдущем графике.\n",
    "</div>"
   ]
  },
  {
   "cell_type": "markdown",
   "metadata": {},
   "source": [
    "### Постройте график относительного изменения кумулятивного среднего чека группы B к группе A. Сделайте выводы и предположения."
   ]
  },
  {
   "cell_type": "code",
   "execution_count": 29,
   "metadata": {},
   "outputs": [
    {
     "data": {
      "image/png": "[encoded data removed]",
      "text/plain": [
       "<Figure size 1080x720 with 1 Axes>"
      ]
     },
     "metadata": {
      "needs_background": "light"
     },
     "output_type": "display_data"
    }
   ],
   "source": [
    "plt.figure(figsize=(15, 10))\n",
    "plt.ylabel('% изменений кумулятивного среднего чека')\n",
    "mergedCumulativeRevenue = cumulativeRevenueA.merge(cumulativeRevenueB, left_on='date', right_on='date', how='left', suffixes=['A', 'B'])\n",
    "\n",
    "plt.plot(mergedCumulativeRevenue['date'], (mergedCumulativeRevenue['revenueB']/mergedCumulativeRevenue['ordersB'])/(mergedCumulativeRevenue['revenueA']/mergedCumulativeRevenue['ordersA'])-1)\n",
    "\n",
    "plt.axhline(y=0, color='black', linestyle='--') \n",
    "\n",
    "plt.xticks(rotation=45)\n",
    "plt.title('Относительное изменение кумулятивного среднего чека группы B к A');"
   ]
  },
  {
   "cell_type": "markdown",
   "metadata": {},
   "source": [
    "Изначально средний чек группы B на 20% меньше у группы A. В промежутке между 05.08 и 09.08 он становится на 35% выше, чем у группы A, и далее опускается. В промежутке 17.08 - 21.08 разница достигает максимума в пользу среднего чека группы B. Он больше почти на 50%. Далее разница сокращается, но не падает ниже 30%. "
   ]
  },
  {
   "cell_type": "markdown",
   "metadata": {},
   "source": [
    "<div class=\"alert alert-block alert-success\">\n",
    "    \n",
    "**Комментарий от ревьюера**\n",
    "    \n",
    "Действительно, этот график не стабилизировался.\n",
    "</div>"
   ]
  },
  {
   "cell_type": "markdown",
   "metadata": {},
   "source": [
    "### Постройте график кумулятивного среднего количества заказов на посетителя по группам. Сделайте выводы и предположения.\n"
   ]
  },
  {
   "cell_type": "code",
   "execution_count": 30,
   "metadata": {},
   "outputs": [
    {
     "data": {
      "image/png": "[encoded data removed]",
      "text/plain": [
       "<Figure size 1080x720 with 1 Axes>"
      ]
     },
     "metadata": {
      "needs_background": "light"
     },
     "output_type": "display_data"
    }
   ],
   "source": [
    "plt.figure(figsize=(15, 10))\n",
    "plt.ylabel('% кумулятивных средних заказов')\n",
    "\n",
    "cumulativeOrdersA = cumulativeData[cumulativeData['group']=='A'][['date','orders', 'visitors', 'conversion']]\n",
    "\n",
    "cumulativeOrdersB = cumulativeData[cumulativeData['group']=='B'][['date','orders', 'visitors', 'conversion']]\n",
    "\n",
    "cumulativeOrdersA['date'] = pd.to_datetime(cumulativeOrdersA['date'])\n",
    "cumulativeOrdersB['date'] = pd.to_datetime(cumulativeOrdersB['date'])\n",
    "\n",
    "\n",
    "plt.plot(cumulativeOrdersA['date'], cumulativeOrdersA['conversion'], label='A')\n",
    "plt.plot(cumulativeOrdersB['date'], cumulativeOrdersB['conversion'], label='B')\n",
    "plt.legend()\n",
    "plt.xticks(rotation=45)\n",
    "plt.title('Кумулятивное среднее количества заказов на посетителя');"
   ]
  },
  {
   "cell_type": "markdown",
   "metadata": {},
   "source": [
    "У группы A  среднее количество заказов приблизительно 3. У группы B - 3.5 заказа. У группы B среднее количество заказов на пользователя устойчиво больше, чем у группы A. "
   ]
  },
  {
   "cell_type": "markdown",
   "metadata": {},
   "source": [
    "<div class=\"alert alert-block alert-danger\">\n",
    "    \n",
    "**Комментарий от ревьюера**\n",
    "    \n",
    "Здесь и в следующем пункте ты называешь один и тот же показатель иногда \"конверсией\", а иногда \"средним количеством заказов на посетителя\". Вторая формулировка более корректная, так как для расчета конверсии в чистом виде, нам нужны id посетителей. \n",
    "    \n",
    "</div>"
   ]
  },
  {
   "cell_type": "markdown",
   "metadata": {},
   "source": [
    "<div class=\"alert alert-info\">\n",
    "    \n",
    "Поправила.\n",
    "</div>"
   ]
  },
  {
   "cell_type": "markdown",
   "metadata": {},
   "source": [
    "<div class=\"alert alert-block alert-success\">\n",
    "    \n",
    "**Комментарий от ревьюера 2**\n",
    "\n",
    "Отлично теперь формулировки совпадают.\n",
    "</div>"
   ]
  },
  {
   "cell_type": "markdown",
   "metadata": {},
   "source": [
    "### Постройте график относительного изменения кумулятивного среднего количества заказов на посетителя группы B к группе A. Сделайте выводы и предположения.\n"
   ]
  },
  {
   "cell_type": "code",
   "execution_count": 31,
   "metadata": {},
   "outputs": [
    {
     "data": {
      "image/png": "[encoded data removed]",
      "text/plain": [
       "<Figure size 1080x720 with 1 Axes>"
      ]
     },
     "metadata": {
      "needs_background": "light"
     },
     "output_type": "display_data"
    }
   ],
   "source": [
    "plt.figure(figsize=(15, 10))\n",
    "plt.ylabel('% изменений')\n",
    "\n",
    "mergedCumulativeConversions = cumulativeOrdersA[['date','conversion']].merge(cumulativeOrdersB[['date','conversion']], left_on='date', right_on='date', how='left', suffixes=['A', 'B'])\n",
    "\n",
    "plt.plot(mergedCumulativeConversions['date'], mergedCumulativeConversions['conversionB']/mergedCumulativeConversions['conversionA']-1, label=\"Относительный прирост конверсии группы B относительно группы A\")\n",
    "plt.legend()\n",
    "\n",
    "plt.xticks(rotation=45)\n",
    "plt.title('Изменение кумулятивного среднего количества заказов группы B к группе A')\n",
    "plt.axhline(y=0, color='black', linestyle='--')\n",
    "plt.axhline(y=0.15, color='black', linestyle='--');"
   ]
  },
  {
   "cell_type": "markdown",
   "metadata": {},
   "source": [
    "<div class=\"alert alert-block alert-warning\">\n",
    "    \n",
    "**Комментарий от ревьюера**\n",
    "\n",
    "Для удобства на график можно добавить еще одну линию серым цветом на значение 0.15 по оси y, так как около этого значения намечается тенденция к стабилизации.\n",
    "    \n",
    "</div>"
   ]
  },
  {
   "cell_type": "markdown",
   "metadata": {},
   "source": [
    "<div class=\"alert alert-info\">\n",
    "    \n",
    "Добавила.\n",
    "</div>"
   ]
  },
  {
   "cell_type": "markdown",
   "metadata": {},
   "source": [
    "<div class=\"alert alert-block alert-success\">\n",
    "<b>Комментарий ревьюера 2:</b> График стал более наглядным 👍\n",
    "</div>"
   ]
  },
  {
   "cell_type": "markdown",
   "metadata": {},
   "source": [
    "Количество заказов у группы B выше приблизительно на 15%."
   ]
  },
  {
   "cell_type": "markdown",
   "metadata": {},
   "source": [
    "### Постройте точечный график количества заказов по пользователям. Сделайте выводы и предположения.\n"
   ]
  },
  {
   "cell_type": "code",
   "execution_count": 32,
   "metadata": {},
   "outputs": [
    {
     "data": {
      "image/png": "[encoded data removed]",
      "text/plain": [
       "<Figure size 1080x720 with 1 Axes>"
      ]
     },
     "metadata": {
      "needs_background": "light"
     },
     "output_type": "display_data"
    }
   ],
   "source": [
    "plt.figure(figsize=(15, 10))\n",
    "plt.ylabel('Количество заказов')\n",
    "plt.xlabel('Пользователи')\n",
    "plt.title('Количество заказов по пользователям')\n",
    "\n",
    "ordersByUsers = (\n",
    "    orders.groupby('visitorId', as_index=False)\n",
    "    .agg({'transactionId': 'nunique'})\n",
    ")\n",
    "ordersByUsers.columns = ['visitorId', 'orders']\n",
    "\n",
    "x_values = pd.Series(range(0, len(ordersByUsers)))\n",
    "\n",
    "plt.scatter(x_values, ordersByUsers['orders']);\n"
   ]
  },
  {
   "cell_type": "markdown",
   "metadata": {},
   "source": [
    "Чаще всего делают 1-2 заказа. Иногда 3. Больше 3 заказов происходит редко. "
   ]
  },
  {
   "cell_type": "markdown",
   "metadata": {},
   "source": [
    "### Посчитайте 95-й и 99-й перцентили количества заказов на пользователя. Выберите границу для определения аномальных пользователей.\n"
   ]
  },
  {
   "cell_type": "code",
   "execution_count": 21,
   "metadata": {},
   "outputs": [
    {
     "data": {
      "text/plain": [
       "array([1., 2.])"
      ]
     },
     "execution_count": 21,
     "metadata": {},
     "output_type": "execute_result"
    }
   ],
   "source": [
    "np.percentile(ordersByUsers['orders'], [95, 99])"
   ]
  },
  {
   "cell_type": "markdown",
   "metadata": {},
   "source": [
    "От 3 и более заказов будем считать аномалией. "
   ]
  },
  {
   "cell_type": "markdown",
   "metadata": {},
   "source": [
    "<div class=\"alert alert-block alert-success\">\n",
    "    \n",
    "**Комментарий от ревьюера**\n",
    "    \n",
    "Такое определение выбросов для количества заказов корректно.\n",
    "</div>"
   ]
  },
  {
   "cell_type": "markdown",
   "metadata": {},
   "source": [
    "<div class=\"alert alert-info\">\n",
    "    \n",
    "Поскольку я удалила некоторые записи, перцентили изменились, сейчас хочу взять >=3 вместо >=4.\n",
    "</div>"
   ]
  },
  {
   "cell_type": "markdown",
   "metadata": {},
   "source": [
    "<div class=\"alert alert-block alert-success\">\n",
    "<b>Комментарий ревьюера 2:</b> Как раз для подобных случаев мы используем автоматический расчет вместо вводимых вручную чисел 👍\n",
    "</div>"
   ]
  },
  {
   "cell_type": "markdown",
   "metadata": {},
   "source": [
    "### Постройте точечный график стоимостей заказов. Сделайте выводы и предположения.\n"
   ]
  },
  {
   "cell_type": "code",
   "execution_count": 33,
   "metadata": {},
   "outputs": [
    {
     "data": {
      "image/png": "[encoded data removed]",
      "text/plain": [
       "<Figure size 1080x720 with 1 Axes>"
      ]
     },
     "metadata": {
      "needs_background": "light"
     },
     "output_type": "display_data"
    }
   ],
   "source": [
    "x_values = pd.Series(range(0, len(orders['revenue'])))\n",
    "\n",
    "plt.figure(figsize=(15, 10))\n",
    "plt.ylabel('Стоимость заказов')\n",
    "plt.xlabel('Заказы')\n",
    "plt.title('Стоимость заказов')\n",
    "\n",
    "plt.scatter(x_values, orders['revenue']);"
   ]
  },
  {
   "cell_type": "code",
   "execution_count": 23,
   "metadata": {},
   "outputs": [
    {
     "data": {
      "text/plain": [
       "(0.0, 200000.0)"
      ]
     },
     "execution_count": 23,
     "metadata": {},
     "output_type": "execute_result"
    },
    {
     "data": {
      "image/png": "[encoded data removed]",
      "text/plain": [
       "<Figure size 1080x720 with 1 Axes>"
      ]
     },
     "metadata": {
      "needs_background": "light"
     },
     "output_type": "display_data"
    }
   ],
   "source": [
    "x_values = pd.Series(range(0, len(orders['revenue'])))\n",
    "\n",
    "plt.figure(figsize=(15, 10))\n",
    "plt.ylabel('Стоимость заказов')\n",
    "plt.xlabel('Заказы')\n",
    "plt.title('Стоимость заказов')\n",
    "\n",
    "plt.scatter(x_values, orders['revenue']) \n",
    "plt.ylim([0, 200000])"
   ]
  },
  {
   "cell_type": "markdown",
   "metadata": {},
   "source": [
    "<div class=\"alert alert-block alert-warning\">\n",
    "    \n",
    "**Комментарий от ревьюера**\n",
    "\n",
    "Полезно добавить еще один график, ограничив значения по оси Y. Чтобы двух явных выбросов не было видно, а мы могли рассмотреть основную часть заказов.\n",
    "\n",
    "</div>"
   ]
  },
  {
   "cell_type": "markdown",
   "metadata": {},
   "source": [
    "<div class=\"alert alert-info\">\n",
    "    \n",
    "Добавила.\n",
    "</div>"
   ]
  },
  {
   "cell_type": "markdown",
   "metadata": {},
   "source": [
    "<div class=\"alert alert-block alert-success\">\n",
    "    \n",
    "**Комментарий от ревьюера 2**\n",
    "    \n",
    "Удобно, когда можно рассмотреть и выбросы, и основную часть заказов.\n",
    "</div>"
   ]
  },
  {
   "cell_type": "markdown",
   "metadata": {},
   "source": [
    "Можно предположить, что стоимость выше 50 000 является аномалией."
   ]
  },
  {
   "cell_type": "markdown",
   "metadata": {},
   "source": [
    "### Посчитайте 95-й и 99-й перцентили стоимости заказов. Выберите границу для определения аномальных заказов.\n"
   ]
  },
  {
   "cell_type": "code",
   "execution_count": 24,
   "metadata": {},
   "outputs": [
    {
     "data": {
      "text/plain": [
       "array([26785., 53904.])"
      ]
     },
     "execution_count": 24,
     "metadata": {},
     "output_type": "execute_result"
    }
   ],
   "source": [
    "np.percentile(orders['revenue'], [95, 99])"
   ]
  },
  {
   "cell_type": "markdown",
   "metadata": {},
   "source": [
    "Выше 53000 считаем аномалией. "
   ]
  },
  {
   "cell_type": "markdown",
   "metadata": {},
   "source": [
    "<div class=\"alert alert-block alert-success\"> <b>Комментарий от ревьюера:</b> Молодец, что разобралась с аномалиями в данных и корректно освоила расчет кумулятивных метрик.\n",
    "</div>"
   ]
  },
  {
   "cell_type": "markdown",
   "metadata": {},
   "source": [
    "### Посчитайте статистическую значимость различий в среднем количестве заказов на посетителя между группами по «сырым» данным. Сделайте выводы и предположения.\n"
   ]
  },
  {
   "cell_type": "markdown",
   "metadata": {},
   "source": [
    "<div class=\"alert alert-block alert-danger\">\n",
    "    \n",
    "**Комментарий от ревьюера**\n",
    "\n",
    "В ячейке ниже ты сразу создаешь переменные для фильтрации выбросов usersWithManyOrders и usersWithExpensiveOrders, в них используется ввод чисел вручную, которого лучше избегать.\n",
    "    \n",
    "Для этого вписанные вручную числа надо заменить на такие же расчеты, как ты использовала для границы определения аномальных заказов, только там ты указываешь список перцентилей, а здесь нам нужен один.\n",
    "\n",
    "</div>"
   ]
  },
  {
   "cell_type": "markdown",
   "metadata": {},
   "source": [
    "<div class=\"alert alert-info\">\n",
    "    \n",
    "Заменила вписанные вручную числа на расчеты перцентилей.\n",
    "</div>"
   ]
  },
  {
   "cell_type": "markdown",
   "metadata": {},
   "source": [
    "<div class=\"alert alert-block alert-warning\">\n",
    "    \n",
    "**Комментарий от ревьюера 2**\n",
    "    \n",
    "Если убрать скобки вокруг номера перцентиля, то не понадобится добавлять [0], так как результат будет сразу в виде числа:\n",
    "    \n",
    "    np.percentile(ordersByUsers['orders'], 99)\n",
    "</div>"
   ]
  },
  {
   "cell_type": "code",
   "execution_count": 25,
   "metadata": {},
   "outputs": [
    {
     "name": "stdout",
     "output_type": "stream",
     "text": [
      "0.01102\n",
      "0.160\n"
     ]
    }
   ],
   "source": [
    "visitorsADaily = visitors[visitors['group'] == 'A'][['date', 'visitors']]\n",
    "visitorsADaily.columns = ['date', 'visitorsPerDateA']\n",
    "\n",
    "visitorsACummulative = visitorsADaily.apply(\n",
    "    lambda x: visitorsADaily[visitorsADaily['date'] <= x['date']].agg(\n",
    "        {'date': 'max', 'visitorsPerDateA': 'sum'}\n",
    "    ),\n",
    "    axis=1,\n",
    ")\n",
    "visitorsACummulative.columns = ['date', 'visitorsCummulativeA']\n",
    "\n",
    "visitorsBDaily = visitors[visitors['group'] == 'B'][['date', 'visitors']]\n",
    "visitorsBDaily.columns = ['date', 'visitorsPerDateB']\n",
    "\n",
    "visitorsBCummulative = visitorsBDaily.apply(\n",
    "    lambda x: visitorsBDaily[visitorsBDaily['date'] <= x['date']].agg(\n",
    "        {'date': 'max', 'visitorsPerDateB': 'sum'}\n",
    "    ),\n",
    "    axis=1,\n",
    ")\n",
    "visitorsBCummulative.columns = ['date', 'visitorsCummulativeB']\n",
    "\n",
    "ordersADaily = (\n",
    "    orders[orders['group'] == 'A'][['date', 'transactionId', 'visitorId', 'revenue']]\n",
    "    .groupby('date', as_index=False)\n",
    "    .agg({'transactionId': pd.Series.nunique, 'revenue': 'sum'})\n",
    ")\n",
    "ordersADaily.columns = ['date', 'ordersPerDateA', 'revenuePerDateA']\n",
    "\n",
    "ordersACummulative = ordersADaily.apply(\n",
    "    lambda x: ordersADaily[ordersADaily['date'] <= x['date']].agg(\n",
    "        {'date': 'max', 'ordersPerDateA': 'sum', 'revenuePerDateA': 'sum'}\n",
    "    ),\n",
    "    axis=1,\n",
    ").sort_values(by=['date'])\n",
    "ordersACummulative.columns = [\n",
    "    'date',\n",
    "    'ordersCummulativeA',\n",
    "    'revenueCummulativeA',\n",
    "]\n",
    "\n",
    "ordersBDaily = (\n",
    "    orders[orders['group'] == 'B'][['date', 'transactionId', 'visitorId', 'revenue']]\n",
    "    .groupby('date', as_index=False)\n",
    "    .agg({'transactionId': pd.Series.nunique, 'revenue': 'sum'})\n",
    ")\n",
    "ordersBDaily.columns = ['date', 'ordersPerDateB', 'revenuePerDateB']\n",
    "\n",
    "ordersBCummulative = ordersBDaily.apply(\n",
    "    lambda x: ordersBDaily[ordersBDaily['date'] <= x['date']].agg(\n",
    "        {'date': 'max', 'ordersPerDateB': 'sum', 'revenuePerDateB': 'sum'}\n",
    "    ),\n",
    "    axis=1,\n",
    ").sort_values(by=['date'])\n",
    "ordersBCummulative.columns = [\n",
    "    'date',\n",
    "    'ordersCummulativeB',\n",
    "    'revenueCummulativeB',\n",
    "]\n",
    "\n",
    "data = (\n",
    "    ordersADaily.merge(\n",
    "        ordersBDaily, left_on='date', right_on='date', how='left'\n",
    "    )\n",
    "    .merge(ordersACummulative, left_on='date', right_on='date', how='left')\n",
    "    .merge(ordersBCummulative, left_on='date', right_on='date', how='left')\n",
    "    .merge(visitorsADaily, left_on='date', right_on='date', how='left')\n",
    "    .merge(visitorsBDaily, left_on='date', right_on='date', how='left')\n",
    "    .merge(visitorsACummulative, left_on='date', right_on='date', how='left')\n",
    "    .merge(visitorsBCummulative, left_on='date', right_on='date', how='left')\n",
    ")\n",
    "\n",
    "ordersByUsersA = (\n",
    "    orders[orders['group'] == 'A']\n",
    "    .groupby('visitorId', as_index=False)\n",
    "    .agg({'transactionId': pd.Series.nunique})\n",
    ")\n",
    "ordersByUsersA.columns = ['visitorId', 'orders']\n",
    "\n",
    "ordersByUsersB = (\n",
    "    orders[orders['group'] == 'B']\n",
    "    .groupby('visitorId', as_index=False)\n",
    "    .agg({'transactionId': pd.Series.nunique})\n",
    ")\n",
    "ordersByUsersB.columns = ['visitorId', 'orders']\n",
    "\n",
    "order_percentile = np.percentile(ordersByUsers['orders'], [99])[0]\n",
    "\n",
    "usersWithManyOrders = pd.concat(\n",
    "    [\n",
    "        ordersByUsersA[ordersByUsersA['orders'] > order_percentile]['visitorId'],\n",
    "        ordersByUsersB[ordersByUsersB['orders'] > order_percentile]['visitorId'],\n",
    "    ],\n",
    "    axis=0,\n",
    ")\n",
    "\n",
    "revenue_percentile = np.percentile(orders['revenue'], [99])[0]\n",
    "\n",
    "usersWithExpensiveOrders = orders[orders['revenue'] > revenue_percentile]['visitorId']\n",
    "abnormalUsers = (\n",
    "    pd.concat([usersWithManyOrders, usersWithExpensiveOrders], axis=0)\n",
    "    .drop_duplicates()\n",
    "    .sort_values()\n",
    ")\n",
    "\n",
    "sampleA = pd.concat(\n",
    "    [\n",
    "        ordersByUsersA['orders'],\n",
    "        pd.Series(\n",
    "            0,\n",
    "            index=np.arange(\n",
    "                data['visitorsPerDateA'].sum() - len(ordersByUsersA['orders'])\n",
    "            ),\n",
    "            name='orders',\n",
    "        ),\n",
    "    ],\n",
    "    axis=0,\n",
    ")\n",
    "\n",
    "sampleB = pd.concat(\n",
    "    [\n",
    "        ordersByUsersB['orders'],\n",
    "        pd.Series(\n",
    "            0,\n",
    "            index=np.arange(\n",
    "                data['visitorsPerDateB'].sum() - len(ordersByUsersB['orders'])\n",
    "            ),\n",
    "            name='orders',\n",
    "        ),\n",
    "    ],\n",
    "    axis=0,\n",
    ")\n",
    "\n",
    "print('{0:.5f}'.format(stats.mannwhitneyu(sampleA, sampleB)[1]))\n",
    "print('{0:.3f}'.format(sampleB.mean()/sampleA.mean()-1))"
   ]
  },
  {
   "cell_type": "markdown",
   "metadata": {},
   "source": [
    "<div class=\"alert alert-block alert-warning\">\n",
    "    \n",
    "**Комментарий от ревьюера**\n",
    "\n",
    "Будет удобно, если ты добавишь названия выводимых чисел. Так их нельзя будет перепутать.\n",
    "    \n",
    "Формулировки гипотез можно дополнить, чтобы в них было указание на то, что нас интересуют именно статистически значимые различия. Например, так:\n",
    " \n",
    "**Нулевая гипотеза** Статистически значимых различий в ... между группами по ... данным нет.\n",
    "\n",
    "**Альтернативная гипотеза** Статистически значимые различия в ... между группами по ... данным есть.\n",
    "\n",
    "</div>"
   ]
  },
  {
   "cell_type": "markdown",
   "metadata": {},
   "source": [
    "Гипотезы.\n",
    "- Нулевая: различий в среднем количестве заказов между группами нет.\n",
    "- Альтернативная: различия в среднем количестве заказов между группами есть.\n",
    "\n",
    "p-value меньше 0.05, отвергаем нулевую гипотезу, различия между группами есть.\\\n",
    "По сырым данным среднее кол-во заказов на посетителя на 16% выше у группы B."
   ]
  },
  {
   "cell_type": "markdown",
   "metadata": {},
   "source": [
    "Будем использовать метод Манна-Уитни, потому что аномальные значения не будут искажать результат в этом тесте."
   ]
  },
  {
   "cell_type": "markdown",
   "metadata": {},
   "source": [
    "<div class=\"alert alert-block alert-danger\">\n",
    "    \n",
    "**Комментарий от ревьюера**\n",
    "    \n",
    "Нужно еще пояснить, какой метод будет использоваться для проверки гипотез и почему.\n",
    "</div>"
   ]
  },
  {
   "cell_type": "markdown",
   "metadata": {},
   "source": [
    "<div class=\"alert alert-info\">\n",
    "    \n",
    "Пояснила.\n",
    "</div>"
   ]
  },
  {
   "cell_type": "markdown",
   "metadata": {},
   "source": [
    "<div class=\"alert alert-block alert-success\">\n",
    "    \n",
    "**Комментарий от ревьюера 2**\n",
    "    \n",
    "Верно, этот метод подходит лучше всего.\n",
    "</div>"
   ]
  },
  {
   "cell_type": "markdown",
   "metadata": {},
   "source": [
    "### Посчитайте статистическую значимость различий в среднем чеке заказа между группами по «сырым» данным. Сделайте выводы и предположения.\n"
   ]
  },
  {
   "cell_type": "code",
   "execution_count": 26,
   "metadata": {
    "scrolled": true
   },
   "outputs": [
    {
     "name": "stdout",
     "output_type": "stream",
     "text": [
      "0.829\n",
      "0.287\n"
     ]
    }
   ],
   "source": [
    "print('{0:.3f}'.format(stats.mannwhitneyu(orders[orders['group']=='A']['revenue'], orders[orders['group']=='B']['revenue'])[1]))\n",
    "print('{0:.3f}'.format(orders[orders['group']=='B']['revenue'].mean()/orders[orders['group']=='A']['revenue'].mean()-1))"
   ]
  },
  {
   "cell_type": "markdown",
   "metadata": {},
   "source": [
    "Гипотезы.\n",
    "- Нулевая: различий в среднем чеке между группами нет.\n",
    "- Альтернативная: различия в среднем чеке группами есть.\n",
    "\n",
    "p-value больше 0.05, не отвергаем нулевую гипотезу.\\\n",
    "Относительная различие среднего чека 29%. Вероятно, в выборке есть аномалия."
   ]
  },
  {
   "cell_type": "markdown",
   "metadata": {},
   "source": [
    "<div class=\"alert alert-block alert-success\">\n",
    "    \n",
    "**Комментарий от ревьюера**\n",
    "\n",
    "Да, по этому показателю между группами нет статистически значимых различий.\n",
    "</div>"
   ]
  },
  {
   "cell_type": "markdown",
   "metadata": {},
   "source": [
    "### Посчитайте статистическую значимость различий в среднем количестве заказов на посетителя между группами по «очищенным» данным. Сделайте выводы и предположения.\n"
   ]
  },
  {
   "cell_type": "code",
   "execution_count": 27,
   "metadata": {},
   "outputs": [
    {
     "name": "stdout",
     "output_type": "stream",
     "text": [
      "0.00702\n",
      "0.189\n"
     ]
    }
   ],
   "source": [
    "\n",
    "\n",
    "sampleAFiltered = pd.concat(\n",
    "    [\n",
    "        ordersByUsersA[\n",
    "            np.logical_not(ordersByUsersA['visitorId'].isin(abnormalUsers))\n",
    "        ]['orders'],\n",
    "        pd.Series(\n",
    "            0,\n",
    "            index=np.arange(\n",
    "                data['visitorsPerDateA'].sum() - len(ordersByUsersA['orders'])\n",
    "            ),\n",
    "            name='orders',\n",
    "        ),\n",
    "    ],\n",
    "    axis=0,\n",
    ")\n",
    "\n",
    "sampleBFiltered = pd.concat(\n",
    "    [\n",
    "        ordersByUsersB[\n",
    "            np.logical_not(ordersByUsersB['visitorId'].isin(abnormalUsers))\n",
    "        ]['orders'],\n",
    "        pd.Series(\n",
    "            0,\n",
    "            index=np.arange(\n",
    "                data['visitorsPerDateB'].sum() - len(ordersByUsersB['orders'])\n",
    "            ),\n",
    "            name='orders',\n",
    "        ),\n",
    "    ],\n",
    "    axis=0,\n",
    ")\n",
    "\n",
    "print('{0:.5f}'.format(stats.mannwhitneyu(sampleAFiltered, sampleBFiltered)[1]))\n",
    "print('{0:.3f}'.format(sampleBFiltered.mean()/sampleAFiltered.mean()-1))"
   ]
  },
  {
   "cell_type": "markdown",
   "metadata": {},
   "source": [
    "Гипотезы.\n",
    "- Нулевая: различий в среднем количестве заказов между группами нет.\n",
    "- Альтернативная: различия в среднем количестве заказов между группами есть.\n",
    "\n",
    "p-value меньше 0.05, отвергаем нулевую гипотезу, различия между группами есть.\\\n",
    "По сырым данным среднее кол-во заказов на посетителя на 19% выше у группы B. Почти на 3% больше после отброса аномалий."
   ]
  },
  {
   "cell_type": "markdown",
   "metadata": {},
   "source": [
    "<div class=\"alert alert-block alert-success\">\n",
    "    \n",
    "**Комментарий от ревьюера**\n",
    "\n",
    "Верно, при анализе \"очищенных данных\" p-value стало еще меньше и все так же меньше 0.05, следовательно, между группами есть статистически значимые различия.\n",
    "</div>"
   ]
  },
  {
   "cell_type": "markdown",
   "metadata": {},
   "source": [
    "### Посчитайте статистическую значимость различий в среднем чеке заказа между группами по «очищенным» данным. Сделайте выводы и предположения.\n"
   ]
  },
  {
   "cell_type": "code",
   "execution_count": 28,
   "metadata": {},
   "outputs": [
    {
     "name": "stdout",
     "output_type": "stream",
     "text": [
      "0.788\n",
      "-0.032\n"
     ]
    }
   ],
   "source": [
    "print(\n",
    "    '{0:.3f}'.format(\n",
    "        stats.mannwhitneyu(\n",
    "            orders[\n",
    "                np.logical_and(\n",
    "                    orders['group'] == 'A',\n",
    "                    np.logical_not(orders['visitorId'].isin(abnormalUsers)),\n",
    "                )\n",
    "            ]['revenue'],\n",
    "            orders[\n",
    "                np.logical_and(\n",
    "                    orders['group'] == 'B',\n",
    "                    np.logical_not(orders['visitorId'].isin(abnormalUsers)),\n",
    "                )\n",
    "            ]['revenue'],\n",
    "        )[1]\n",
    "    )\n",
    ")\n",
    "\n",
    "print(\n",
    "    \"{0:.3f}\".format(\n",
    "        orders[\n",
    "            np.logical_and(\n",
    "                orders['group'] == 'B',\n",
    "                np.logical_not(orders['visitorId'].isin(abnormalUsers)),\n",
    "            )\n",
    "        ]['revenue'].mean()\n",
    "        / orders[\n",
    "            np.logical_and(\n",
    "                orders['group'] == 'A',\n",
    "                np.logical_not(orders['visitorId'].isin(abnormalUsers)),\n",
    "            )\n",
    "        ]['revenue'].mean()\n",
    "        - 1\n",
    "    )\n",
    ")"
   ]
  },
  {
   "cell_type": "markdown",
   "metadata": {},
   "source": [
    "Гипотезы.\n",
    "- Нулевая: различий в среднем чеке между группами нет.\n",
    "- Альтернативная: различия в среднем чеке группами есть.\n",
    "\n",
    "p-value больше 0.05, не отвергаем нулевую гипотезу.\\\n",
    "Относительное различие среднего чека 1%. Показатели перестали противоречить друг другу после выброса аномальных значений."
   ]
  },
  {
   "cell_type": "markdown",
   "metadata": {},
   "source": [
    "<div class=\"alert alert-block alert-success\">\n",
    "    \n",
    "**Комментарий от ревьюера**\n",
    "\n",
    "Да, здесь видно, как на относительные различия повлияли выбросы.\n",
    "</div>"
   ]
  },
  {
   "cell_type": "markdown",
   "metadata": {},
   "source": [
    "### Примите решение по результатам теста и объясните его. Варианты решений:\n",
    "- Остановить тест, зафиксировать победу одной из групп.\n",
    "- Остановить тест, зафиксировать отсутствие различий между группами.\n",
    "- Продолжить тест.\n"
   ]
  },
  {
   "cell_type": "markdown",
   "metadata": {},
   "source": [
    "По сырым и очищенным данным количество заказов у группы B больше, чем у группы A, на 16-19%.\n",
    "По сырым и очищенными данным средний чек не отличается у группы A и B. Из-за аномалий была большая разница в относительном различии среднего чека до очистки данных, после очистка разница оказалась ~1%.\n",
    "\n",
    "График кумулятивного среднего количества заказов стабилизировался. График кумулятивного среднего чека не стабилизировался из-за аномалий, но если их убрать, то график окажется стабильным.\n",
    "\n",
    "Вывод: я считаю, что нужно остановить тест и зафиксировать победу группы B."
   ]
  },
  {
   "cell_type": "markdown",
   "metadata": {},
   "source": [
    "<div class=\"alert alert-block alert-success\">\n",
    "    \n",
    "**Комментарий от ревьюера**\n",
    "    \n",
    "Верно, данных для принятия решения у нас уже достаточно. \n",
    "</div>"
   ]
  },
  {
   "cell_type": "markdown",
   "metadata": {},
   "source": [
    "<div class=\"alert alert-block alert-info\">\n",
    "\n",
    "<b>Итоговый комментарий ревьюера:</b>\n",
    "\n",
    "Благодарю тебя за выполнение проекта. Вижу ты постаралась, когда работала над ним. Однако, в проекте есть несколько замечаний, которые надо исправить:\n",
    "\n",
    "* добавить проверку на пропуски и дубликаты;\n",
    "* дополнить оформление графиков;\n",
    "* разобраться со средним количеством заказов и конверсией;\n",
    "* дополнить описание статистических расчетов;\n",
    "* не использовать ручной ввод при фильтрации.\n",
    "       \n",
    "Жду проект после доработки. Уверена, ты справишься. 💪\n",
    "</div>"
   ]
  },
  {
   "cell_type": "markdown",
   "metadata": {},
   "source": [
    "<div class=\"alert alert-block alert-info\">\n",
    "\n",
    "<b>Итоговый комментарий ревьюера 2:</b>\n",
    "\n",
    "Замечания, которые осталось исправить:\n",
    "\n",
    "* дополнить оформление графиков.\n",
    "\n",
    "</div>"
   ]
  },
  {
   "cell_type": "code",
   "execution_count": null,
   "metadata": {},
   "outputs": [],
   "source": []
  }
 ],
 "metadata": {
  "ExecuteTimeLog": [
   {
    "duration": 103,
    "start_time": "2023-10-18T17:49:24.653Z"
   },
   {
    "duration": 450,
    "start_time": "2023-10-18T17:52:08.969Z"
   },
   {
    "duration": 77,
    "start_time": "2023-10-18T17:52:18.510Z"
   },
   {
    "duration": 1818,
    "start_time": "2023-10-18T17:56:30.098Z"
   },
   {
    "duration": 3,
    "start_time": "2023-10-18T17:58:26.173Z"
   },
   {
    "duration": 13,
    "start_time": "2023-10-18T17:58:28.269Z"
   },
   {
    "duration": 4,
    "start_time": "2023-10-18T17:58:41.049Z"
   },
   {
    "duration": 6,
    "start_time": "2023-10-18T17:58:41.679Z"
   },
   {
    "duration": 9,
    "start_time": "2023-10-18T17:59:22.336Z"
   },
   {
    "duration": 2,
    "start_time": "2023-10-18T18:08:41.113Z"
   },
   {
    "duration": 124,
    "start_time": "2023-10-18T18:10:03.329Z"
   },
   {
    "duration": 73,
    "start_time": "2023-10-18T18:10:38.722Z"
   },
   {
    "duration": 28,
    "start_time": "2023-10-18T18:20:47.779Z"
   },
   {
    "duration": 37,
    "start_time": "2023-10-18T18:21:24.495Z"
   },
   {
    "duration": 23,
    "start_time": "2023-10-18T18:21:28.474Z"
   },
   {
    "duration": 252,
    "start_time": "2023-10-18T18:22:34.231Z"
   },
   {
    "duration": 14,
    "start_time": "2023-10-18T18:24:01.085Z"
   },
   {
    "duration": 523,
    "start_time": "2023-10-18T18:24:26.167Z"
   },
   {
    "duration": 248,
    "start_time": "2023-10-18T18:24:30.294Z"
   },
   {
    "duration": 276,
    "start_time": "2023-10-18T18:24:43.818Z"
   },
   {
    "duration": 232,
    "start_time": "2023-10-18T18:26:49.267Z"
   },
   {
    "duration": 250,
    "start_time": "2023-10-18T18:27:24.963Z"
   },
   {
    "duration": 239,
    "start_time": "2023-10-18T18:27:36.092Z"
   },
   {
    "duration": 22,
    "start_time": "2023-10-18T18:29:49.436Z"
   },
   {
    "duration": 12,
    "start_time": "2023-10-18T18:30:11.027Z"
   },
   {
    "duration": 230,
    "start_time": "2023-10-18T18:31:06.371Z"
   },
   {
    "duration": 219,
    "start_time": "2023-10-18T18:31:24.011Z"
   },
   {
    "duration": 15,
    "start_time": "2023-10-18T18:31:35.966Z"
   },
   {
    "duration": 182,
    "start_time": "2023-10-18T18:31:53.018Z"
   },
   {
    "duration": 12,
    "start_time": "2023-10-18T18:32:56.417Z"
   },
   {
    "duration": 12,
    "start_time": "2023-10-18T18:33:01.220Z"
   },
   {
    "duration": 168,
    "start_time": "2023-10-18T18:33:07.177Z"
   },
   {
    "duration": 12,
    "start_time": "2023-10-18T18:33:18.545Z"
   },
   {
    "duration": 11,
    "start_time": "2023-10-18T18:33:23.920Z"
   },
   {
    "duration": 12,
    "start_time": "2023-10-18T18:33:28.959Z"
   },
   {
    "duration": 16,
    "start_time": "2023-10-18T18:33:37.271Z"
   },
   {
    "duration": 154,
    "start_time": "2023-10-18T18:33:43.120Z"
   },
   {
    "duration": 154,
    "start_time": "2023-10-18T18:34:43.761Z"
   },
   {
    "duration": 178,
    "start_time": "2023-10-18T18:35:08.208Z"
   },
   {
    "duration": 155,
    "start_time": "2023-10-18T18:35:14.587Z"
   },
   {
    "duration": 201,
    "start_time": "2023-10-18T18:37:46.362Z"
   },
   {
    "duration": 160,
    "start_time": "2023-10-18T18:37:50.453Z"
   },
   {
    "duration": 167,
    "start_time": "2023-10-18T18:37:55.779Z"
   },
   {
    "duration": 177,
    "start_time": "2023-10-18T18:38:09.235Z"
   },
   {
    "duration": 173,
    "start_time": "2023-10-18T18:39:53.902Z"
   },
   {
    "duration": 163,
    "start_time": "2023-10-18T18:40:06.857Z"
   },
   {
    "duration": 177,
    "start_time": "2023-10-18T18:51:25.225Z"
   },
   {
    "duration": 172,
    "start_time": "2023-10-18T18:52:04.461Z"
   },
   {
    "duration": 201,
    "start_time": "2023-10-18T18:52:23.085Z"
   },
   {
    "duration": 318,
    "start_time": "2023-10-18T18:57:53.276Z"
   },
   {
    "duration": 295,
    "start_time": "2023-10-18T18:58:23.508Z"
   },
   {
    "duration": 365,
    "start_time": "2023-10-18T18:58:37.122Z"
   },
   {
    "duration": 3,
    "start_time": "2023-10-18T19:03:52.001Z"
   },
   {
    "duration": 2,
    "start_time": "2023-10-18T19:04:14.624Z"
   },
   {
    "duration": 94,
    "start_time": "2023-10-18T19:05:22.191Z"
   },
   {
    "duration": 811,
    "start_time": "2023-10-18T19:06:06.506Z"
   },
   {
    "duration": 4,
    "start_time": "2023-10-18T19:06:07.319Z"
   },
   {
    "duration": 11,
    "start_time": "2023-10-18T19:06:07.324Z"
   },
   {
    "duration": 31,
    "start_time": "2023-10-18T19:06:07.337Z"
   },
   {
    "duration": 56,
    "start_time": "2023-10-18T19:06:07.370Z"
   },
   {
    "duration": 57,
    "start_time": "2023-10-18T19:06:07.427Z"
   },
   {
    "duration": 287,
    "start_time": "2023-10-18T19:06:07.485Z"
   },
   {
    "duration": 290,
    "start_time": "2023-10-18T19:06:07.773Z"
   },
   {
    "duration": 237,
    "start_time": "2023-10-18T19:06:08.065Z"
   },
   {
    "duration": 296,
    "start_time": "2023-10-18T19:06:08.304Z"
   },
   {
    "duration": 216,
    "start_time": "2023-10-18T19:09:47.270Z"
   },
   {
    "duration": 260,
    "start_time": "2023-10-18T19:09:57.738Z"
   },
   {
    "duration": 8,
    "start_time": "2023-10-18T19:11:40.385Z"
   },
   {
    "duration": 292,
    "start_time": "2023-10-18T19:14:19.089Z"
   },
   {
    "duration": 301,
    "start_time": "2023-10-18T19:17:53.671Z"
   },
   {
    "duration": 1583,
    "start_time": "2023-10-18T19:21:39.910Z"
   },
   {
    "duration": 167,
    "start_time": "2023-10-18T19:21:47.073Z"
   },
   {
    "duration": 302,
    "start_time": "2023-10-18T19:21:59.590Z"
   },
   {
    "duration": 280,
    "start_time": "2023-10-18T19:25:28.127Z"
   },
   {
    "duration": 306,
    "start_time": "2023-10-18T19:25:33.165Z"
   },
   {
    "duration": 220,
    "start_time": "2023-10-18T19:25:53.193Z"
   },
   {
    "duration": 733,
    "start_time": "2023-10-18T19:27:02.226Z"
   },
   {
    "duration": 3,
    "start_time": "2023-10-18T19:27:02.960Z"
   },
   {
    "duration": 19,
    "start_time": "2023-10-18T19:27:02.965Z"
   },
   {
    "duration": 18,
    "start_time": "2023-10-18T19:27:02.986Z"
   },
   {
    "duration": 76,
    "start_time": "2023-10-18T19:27:03.012Z"
   },
   {
    "duration": 26,
    "start_time": "2023-10-18T19:27:03.089Z"
   },
   {
    "duration": 296,
    "start_time": "2023-10-18T19:27:03.117Z"
   },
   {
    "duration": 356,
    "start_time": "2023-10-18T19:27:03.414Z"
   },
   {
    "duration": 209,
    "start_time": "2023-10-18T19:27:03.771Z"
   },
   {
    "duration": 297,
    "start_time": "2023-10-18T19:27:03.982Z"
   },
   {
    "duration": 208,
    "start_time": "2023-10-18T19:27:04.281Z"
   },
   {
    "duration": 17,
    "start_time": "2023-10-18T19:27:04.490Z"
   },
   {
    "duration": 10,
    "start_time": "2023-10-18T19:29:11.793Z"
   },
   {
    "duration": 103,
    "start_time": "2023-10-18T19:29:29.105Z"
   },
   {
    "duration": 1835,
    "start_time": "2023-10-18T19:29:41.570Z"
   },
   {
    "duration": 714,
    "start_time": "2023-10-18T19:30:43.895Z"
   },
   {
    "duration": 3,
    "start_time": "2023-10-18T19:30:44.611Z"
   },
   {
    "duration": 9,
    "start_time": "2023-10-18T19:30:44.615Z"
   },
   {
    "duration": 8,
    "start_time": "2023-10-18T19:30:44.626Z"
   },
   {
    "duration": 66,
    "start_time": "2023-10-18T19:30:44.635Z"
   },
   {
    "duration": 20,
    "start_time": "2023-10-18T19:30:44.703Z"
   },
   {
    "duration": 1781,
    "start_time": "2023-10-18T19:30:44.725Z"
   },
   {
    "duration": 0,
    "start_time": "2023-10-18T19:30:46.507Z"
   },
   {
    "duration": 0,
    "start_time": "2023-10-18T19:30:46.509Z"
   },
   {
    "duration": 0,
    "start_time": "2023-10-18T19:30:46.510Z"
   },
   {
    "duration": 0,
    "start_time": "2023-10-18T19:30:46.512Z"
   },
   {
    "duration": 0,
    "start_time": "2023-10-18T19:30:46.513Z"
   },
   {
    "duration": 0,
    "start_time": "2023-10-18T19:30:46.514Z"
   },
   {
    "duration": 281,
    "start_time": "2023-10-18T19:31:18.779Z"
   },
   {
    "duration": 1487,
    "start_time": "2023-10-18T19:31:24.731Z"
   },
   {
    "duration": 793,
    "start_time": "2023-10-18T19:31:33.287Z"
   },
   {
    "duration": 11,
    "start_time": "2023-10-18T19:31:34.085Z"
   },
   {
    "duration": 11,
    "start_time": "2023-10-18T19:31:34.099Z"
   },
   {
    "duration": 7,
    "start_time": "2023-10-18T19:31:34.111Z"
   },
   {
    "duration": 81,
    "start_time": "2023-10-18T19:31:34.120Z"
   },
   {
    "duration": 24,
    "start_time": "2023-10-18T19:31:34.203Z"
   },
   {
    "duration": 335,
    "start_time": "2023-10-18T19:31:34.229Z"
   },
   {
    "duration": 305,
    "start_time": "2023-10-18T19:31:34.577Z"
   },
   {
    "duration": 206,
    "start_time": "2023-10-18T19:31:34.883Z"
   },
   {
    "duration": 248,
    "start_time": "2023-10-18T19:31:35.090Z"
   },
   {
    "duration": 253,
    "start_time": "2023-10-18T19:31:35.361Z"
   },
   {
    "duration": 13,
    "start_time": "2023-10-18T19:31:35.616Z"
   },
   {
    "duration": 1598,
    "start_time": "2023-10-18T19:31:35.630Z"
   },
   {
    "duration": 366,
    "start_time": "2023-10-18T19:33:32.586Z"
   },
   {
    "duration": 335,
    "start_time": "2023-10-18T19:34:02.586Z"
   },
   {
    "duration": 210,
    "start_time": "2023-10-18T19:34:51.785Z"
   },
   {
    "duration": 225,
    "start_time": "2023-10-18T19:39:02.584Z"
   },
   {
    "duration": 188,
    "start_time": "2023-10-18T19:39:12.153Z"
   },
   {
    "duration": 216,
    "start_time": "2023-10-18T19:40:50.260Z"
   },
   {
    "duration": 269,
    "start_time": "2023-10-18T19:42:21.403Z"
   },
   {
    "duration": 398,
    "start_time": "2023-10-18T19:43:56.420Z"
   },
   {
    "duration": 126,
    "start_time": "2023-10-18T19:56:52.052Z"
   },
   {
    "duration": 124,
    "start_time": "2023-10-18T19:57:31.281Z"
   },
   {
    "duration": 162,
    "start_time": "2023-10-18T19:57:46.016Z"
   },
   {
    "duration": 115,
    "start_time": "2023-10-18T19:59:59.811Z"
   },
   {
    "duration": 157,
    "start_time": "2023-10-18T20:00:11.627Z"
   },
   {
    "duration": 223,
    "start_time": "2023-10-18T20:00:52.885Z"
   },
   {
    "duration": 148,
    "start_time": "2023-10-18T20:01:00.269Z"
   },
   {
    "duration": 160,
    "start_time": "2023-10-18T20:01:07.953Z"
   },
   {
    "duration": 129,
    "start_time": "2023-10-18T20:01:10.481Z"
   },
   {
    "duration": 162,
    "start_time": "2023-10-18T20:01:13.639Z"
   },
   {
    "duration": 120,
    "start_time": "2023-10-18T20:01:23.527Z"
   },
   {
    "duration": 143,
    "start_time": "2023-10-18T20:01:31.668Z"
   },
   {
    "duration": 132,
    "start_time": "2023-10-18T20:01:40.373Z"
   },
   {
    "duration": 10,
    "start_time": "2023-10-18T20:03:15.686Z"
   },
   {
    "duration": 4,
    "start_time": "2023-10-18T20:03:31.397Z"
   },
   {
    "duration": 4,
    "start_time": "2023-10-18T20:05:28.790Z"
   },
   {
    "duration": 7,
    "start_time": "2023-10-18T20:05:34.973Z"
   },
   {
    "duration": 142,
    "start_time": "2023-10-18T20:07:29.907Z"
   },
   {
    "duration": 143,
    "start_time": "2023-10-18T20:10:22.486Z"
   },
   {
    "duration": 216,
    "start_time": "2023-10-18T20:11:02.389Z"
   },
   {
    "duration": 11,
    "start_time": "2023-10-18T20:12:49.789Z"
   },
   {
    "duration": 141,
    "start_time": "2023-10-18T20:15:32.567Z"
   },
   {
    "duration": 192,
    "start_time": "2023-10-18T20:28:12.885Z"
   },
   {
    "duration": 108,
    "start_time": "2023-10-18T20:37:59.615Z"
   },
   {
    "duration": 107,
    "start_time": "2023-10-18T20:38:14.982Z"
   },
   {
    "duration": 343,
    "start_time": "2023-10-18T20:38:25.395Z"
   },
   {
    "duration": 422,
    "start_time": "2023-10-18T20:38:51.314Z"
   },
   {
    "duration": 375,
    "start_time": "2023-10-18T20:38:56.285Z"
   },
   {
    "duration": 369,
    "start_time": "2023-10-18T20:43:27.464Z"
   },
   {
    "duration": 334,
    "start_time": "2023-10-18T20:48:44.418Z"
   },
   {
    "duration": 388,
    "start_time": "2023-10-18T20:49:04.507Z"
   },
   {
    "duration": 35,
    "start_time": "2023-10-18T20:49:08.149Z"
   },
   {
    "duration": 52,
    "start_time": "2023-10-18T20:49:31.520Z"
   },
   {
    "duration": 25,
    "start_time": "2023-10-18T20:51:41.646Z"
   },
   {
    "duration": 12,
    "start_time": "2023-10-18T20:52:04.207Z"
   },
   {
    "duration": 18,
    "start_time": "2023-10-18T20:53:26.369Z"
   },
   {
    "duration": 408,
    "start_time": "2023-10-18T20:53:43.707Z"
   },
   {
    "duration": 10,
    "start_time": "2023-10-18T21:12:39.204Z"
   },
   {
    "duration": 34,
    "start_time": "2023-10-18T21:12:58.555Z"
   },
   {
    "duration": 13,
    "start_time": "2023-10-18T21:13:03.822Z"
   },
   {
    "duration": 1291,
    "start_time": "2023-10-18T21:13:10.486Z"
   },
   {
    "duration": 11,
    "start_time": "2023-10-18T21:13:16.368Z"
   },
   {
    "duration": 184,
    "start_time": "2023-10-18T21:16:29.872Z"
   },
   {
    "duration": 1132,
    "start_time": "2023-10-18T21:20:03.535Z"
   },
   {
    "duration": 3,
    "start_time": "2023-10-18T21:20:04.669Z"
   },
   {
    "duration": 42,
    "start_time": "2023-10-18T21:20:04.674Z"
   },
   {
    "duration": 12,
    "start_time": "2023-10-18T21:20:04.718Z"
   },
   {
    "duration": 72,
    "start_time": "2023-10-18T21:20:04.733Z"
   },
   {
    "duration": 24,
    "start_time": "2023-10-18T21:20:04.807Z"
   },
   {
    "duration": 253,
    "start_time": "2023-10-18T21:20:04.832Z"
   },
   {
    "duration": 281,
    "start_time": "2023-10-18T21:20:05.087Z"
   },
   {
    "duration": 196,
    "start_time": "2023-10-18T21:20:05.370Z"
   },
   {
    "duration": 285,
    "start_time": "2023-10-18T21:20:05.567Z"
   },
   {
    "duration": 245,
    "start_time": "2023-10-18T21:20:05.853Z"
   },
   {
    "duration": 375,
    "start_time": "2023-10-18T21:20:06.100Z"
   },
   {
    "duration": 136,
    "start_time": "2023-10-18T21:20:06.476Z"
   },
   {
    "duration": 5,
    "start_time": "2023-10-18T21:20:06.615Z"
   },
   {
    "duration": 136,
    "start_time": "2023-10-18T21:20:06.622Z"
   },
   {
    "duration": 178,
    "start_time": "2023-10-18T21:20:06.760Z"
   },
   {
    "duration": 0,
    "start_time": "2023-10-18T21:20:06.952Z"
   },
   {
    "duration": 0,
    "start_time": "2023-10-18T21:20:06.954Z"
   },
   {
    "duration": 0,
    "start_time": "2023-10-18T21:20:06.954Z"
   },
   {
    "duration": 0,
    "start_time": "2023-10-18T21:20:06.956Z"
   },
   {
    "duration": 0,
    "start_time": "2023-10-18T21:20:06.956Z"
   },
   {
    "duration": 1085,
    "start_time": "2023-10-18T21:20:19.020Z"
   },
   {
    "duration": 3,
    "start_time": "2023-10-18T21:20:20.107Z"
   },
   {
    "duration": 35,
    "start_time": "2023-10-18T21:20:20.112Z"
   },
   {
    "duration": 39,
    "start_time": "2023-10-18T21:20:20.151Z"
   },
   {
    "duration": 80,
    "start_time": "2023-10-18T21:20:20.192Z"
   },
   {
    "duration": 21,
    "start_time": "2023-10-18T21:20:20.273Z"
   },
   {
    "duration": 262,
    "start_time": "2023-10-18T21:20:20.296Z"
   },
   {
    "duration": 260,
    "start_time": "2023-10-18T21:20:20.560Z"
   },
   {
    "duration": 186,
    "start_time": "2023-10-18T21:20:20.821Z"
   },
   {
    "duration": 265,
    "start_time": "2023-10-18T21:20:21.008Z"
   },
   {
    "duration": 203,
    "start_time": "2023-10-18T21:20:21.275Z"
   },
   {
    "duration": 311,
    "start_time": "2023-10-18T21:20:21.479Z"
   },
   {
    "duration": 108,
    "start_time": "2023-10-18T21:20:21.792Z"
   },
   {
    "duration": 4,
    "start_time": "2023-10-18T21:20:21.902Z"
   },
   {
    "duration": 127,
    "start_time": "2023-10-18T21:20:21.908Z"
   },
   {
    "duration": 16,
    "start_time": "2023-10-18T21:20:22.041Z"
   },
   {
    "duration": 342,
    "start_time": "2023-10-18T21:20:22.059Z"
   },
   {
    "duration": 19,
    "start_time": "2023-10-18T21:20:22.403Z"
   },
   {
    "duration": 66,
    "start_time": "2023-10-18T21:20:22.423Z"
   },
   {
    "duration": 19,
    "start_time": "2023-10-18T21:20:22.491Z"
   },
   {
    "duration": 12,
    "start_time": "2023-10-18T21:22:45.064Z"
   },
   {
    "duration": 77,
    "start_time": "2023-10-18T21:26:47.979Z"
   },
   {
    "duration": 84,
    "start_time": "2023-10-18T21:28:44.237Z"
   },
   {
    "duration": 1060,
    "start_time": "2023-10-18T21:43:17.961Z"
   },
   {
    "duration": 3,
    "start_time": "2023-10-18T21:43:19.023Z"
   },
   {
    "duration": 48,
    "start_time": "2023-10-18T21:43:19.027Z"
   },
   {
    "duration": 7,
    "start_time": "2023-10-18T21:43:19.077Z"
   },
   {
    "duration": 61,
    "start_time": "2023-10-18T21:43:19.086Z"
   },
   {
    "duration": 27,
    "start_time": "2023-10-18T21:43:19.149Z"
   },
   {
    "duration": 248,
    "start_time": "2023-10-18T21:43:19.178Z"
   },
   {
    "duration": 283,
    "start_time": "2023-10-18T21:43:19.428Z"
   },
   {
    "duration": 181,
    "start_time": "2023-10-18T21:43:19.712Z"
   },
   {
    "duration": 269,
    "start_time": "2023-10-18T21:43:19.895Z"
   },
   {
    "duration": 196,
    "start_time": "2023-10-18T21:43:20.165Z"
   },
   {
    "duration": 320,
    "start_time": "2023-10-18T21:43:20.363Z"
   },
   {
    "duration": 118,
    "start_time": "2023-10-18T21:43:20.685Z"
   },
   {
    "duration": 4,
    "start_time": "2023-10-18T21:43:20.804Z"
   },
   {
    "duration": 146,
    "start_time": "2023-10-18T21:43:20.810Z"
   },
   {
    "duration": 7,
    "start_time": "2023-10-18T21:43:20.957Z"
   },
   {
    "duration": 330,
    "start_time": "2023-10-18T21:43:20.968Z"
   },
   {
    "duration": 9,
    "start_time": "2023-10-18T21:43:21.300Z"
   },
   {
    "duration": 54,
    "start_time": "2023-10-18T21:43:21.310Z"
   },
   {
    "duration": 11,
    "start_time": "2023-10-18T21:43:21.373Z"
   },
   {
    "duration": 1259,
    "start_time": "2023-10-19T03:10:40.374Z"
   },
   {
    "duration": 3,
    "start_time": "2023-10-19T03:10:41.636Z"
   },
   {
    "duration": 17,
    "start_time": "2023-10-19T03:10:41.640Z"
   },
   {
    "duration": 14,
    "start_time": "2023-10-19T03:10:41.658Z"
   },
   {
    "duration": 49,
    "start_time": "2023-10-19T03:10:41.674Z"
   },
   {
    "duration": 23,
    "start_time": "2023-10-19T03:10:41.724Z"
   },
   {
    "duration": 257,
    "start_time": "2023-10-19T03:10:41.748Z"
   },
   {
    "duration": 296,
    "start_time": "2023-10-19T03:10:42.007Z"
   },
   {
    "duration": 204,
    "start_time": "2023-10-19T03:10:42.305Z"
   },
   {
    "duration": 297,
    "start_time": "2023-10-19T03:10:42.511Z"
   },
   {
    "duration": 216,
    "start_time": "2023-10-19T03:10:42.810Z"
   },
   {
    "duration": 301,
    "start_time": "2023-10-19T03:10:43.028Z"
   },
   {
    "duration": 130,
    "start_time": "2023-10-19T03:10:43.331Z"
   },
   {
    "duration": 5,
    "start_time": "2023-10-19T03:10:43.464Z"
   },
   {
    "duration": 150,
    "start_time": "2023-10-19T03:10:43.470Z"
   },
   {
    "duration": 5,
    "start_time": "2023-10-19T03:10:43.621Z"
   },
   {
    "duration": 361,
    "start_time": "2023-10-19T03:10:43.627Z"
   },
   {
    "duration": 18,
    "start_time": "2023-10-19T03:10:43.990Z"
   },
   {
    "duration": 39,
    "start_time": "2023-10-19T03:10:44.010Z"
   },
   {
    "duration": 13,
    "start_time": "2023-10-19T03:10:44.051Z"
   },
   {
    "duration": 1202,
    "start_time": "2023-10-19T03:24:06.902Z"
   },
   {
    "duration": 4,
    "start_time": "2023-10-19T03:24:08.106Z"
   },
   {
    "duration": 91,
    "start_time": "2023-10-19T03:24:08.112Z"
   },
   {
    "duration": 25,
    "start_time": "2023-10-19T03:24:08.206Z"
   },
   {
    "duration": 47,
    "start_time": "2023-10-19T03:24:08.234Z"
   },
   {
    "duration": 22,
    "start_time": "2023-10-19T03:24:08.283Z"
   },
   {
    "duration": 328,
    "start_time": "2023-10-19T03:24:08.308Z"
   },
   {
    "duration": 315,
    "start_time": "2023-10-19T03:24:08.639Z"
   },
   {
    "duration": 212,
    "start_time": "2023-10-19T03:24:08.956Z"
   },
   {
    "duration": 377,
    "start_time": "2023-10-19T03:24:09.170Z"
   },
   {
    "duration": 272,
    "start_time": "2023-10-19T03:24:09.549Z"
   },
   {
    "duration": 324,
    "start_time": "2023-10-19T03:24:09.824Z"
   },
   {
    "duration": 128,
    "start_time": "2023-10-19T03:24:10.150Z"
   },
   {
    "duration": 6,
    "start_time": "2023-10-19T03:24:10.280Z"
   },
   {
    "duration": 182,
    "start_time": "2023-10-19T03:24:10.287Z"
   },
   {
    "duration": 6,
    "start_time": "2023-10-19T03:24:10.471Z"
   },
   {
    "duration": 397,
    "start_time": "2023-10-19T03:24:10.479Z"
   },
   {
    "duration": 23,
    "start_time": "2023-10-19T03:24:10.878Z"
   },
   {
    "duration": 30,
    "start_time": "2023-10-19T03:24:10.904Z"
   },
   {
    "duration": 14,
    "start_time": "2023-10-19T03:24:10.937Z"
   },
   {
    "duration": 1192,
    "start_time": "2023-10-19T12:17:30.131Z"
   },
   {
    "duration": 27,
    "start_time": "2023-10-19T12:17:48.910Z"
   },
   {
    "duration": 38,
    "start_time": "2023-10-19T12:17:56.464Z"
   },
   {
    "duration": 2965,
    "start_time": "2023-10-19T12:18:07.249Z"
   },
   {
    "duration": 4,
    "start_time": "2023-10-19T12:18:13.290Z"
   },
   {
    "duration": 13,
    "start_time": "2023-10-19T12:18:13.641Z"
   },
   {
    "duration": 4,
    "start_time": "2023-10-19T12:37:49.810Z"
   },
   {
    "duration": 12,
    "start_time": "2023-10-19T12:37:54.828Z"
   },
   {
    "duration": 82,
    "start_time": "2023-10-19T12:38:05.173Z"
   },
   {
    "duration": 15,
    "start_time": "2023-10-19T12:42:33.830Z"
   },
   {
    "duration": 10,
    "start_time": "2023-10-19T12:45:05.643Z"
   },
   {
    "duration": 1219,
    "start_time": "2023-10-19T12:45:12.799Z"
   },
   {
    "duration": 4,
    "start_time": "2023-10-19T12:45:14.020Z"
   },
   {
    "duration": 36,
    "start_time": "2023-10-19T12:45:14.026Z"
   },
   {
    "duration": 15,
    "start_time": "2023-10-19T12:45:14.064Z"
   },
   {
    "duration": 75,
    "start_time": "2023-10-19T12:45:14.081Z"
   },
   {
    "duration": 12,
    "start_time": "2023-10-19T12:45:14.158Z"
   },
   {
    "duration": 51,
    "start_time": "2023-10-19T12:45:14.172Z"
   },
   {
    "duration": 297,
    "start_time": "2023-10-19T12:45:14.225Z"
   },
   {
    "duration": 361,
    "start_time": "2023-10-19T12:45:14.524Z"
   },
   {
    "duration": 221,
    "start_time": "2023-10-19T12:45:14.888Z"
   },
   {
    "duration": 304,
    "start_time": "2023-10-19T12:45:15.111Z"
   },
   {
    "duration": 230,
    "start_time": "2023-10-19T12:45:15.417Z"
   },
   {
    "duration": 378,
    "start_time": "2023-10-19T12:45:15.649Z"
   },
   {
    "duration": 134,
    "start_time": "2023-10-19T12:45:16.029Z"
   },
   {
    "duration": 6,
    "start_time": "2023-10-19T12:45:16.164Z"
   },
   {
    "duration": 166,
    "start_time": "2023-10-19T12:45:16.172Z"
   },
   {
    "duration": 6,
    "start_time": "2023-10-19T12:45:16.339Z"
   },
   {
    "duration": 473,
    "start_time": "2023-10-19T12:45:16.346Z"
   },
   {
    "duration": 10,
    "start_time": "2023-10-19T12:45:16.820Z"
   },
   {
    "duration": 67,
    "start_time": "2023-10-19T12:45:16.832Z"
   },
   {
    "duration": 18,
    "start_time": "2023-10-19T12:45:16.901Z"
   },
   {
    "duration": 11,
    "start_time": "2023-10-19T12:49:48.892Z"
   },
   {
    "duration": 8,
    "start_time": "2023-10-19T12:50:43.274Z"
   },
   {
    "duration": 5,
    "start_time": "2023-10-19T12:50:53.502Z"
   },
   {
    "duration": 12,
    "start_time": "2023-10-19T13:18:45.488Z"
   },
   {
    "duration": 10,
    "start_time": "2023-10-19T13:19:08.379Z"
   },
   {
    "duration": 11,
    "start_time": "2023-10-19T13:19:20.631Z"
   },
   {
    "duration": 9,
    "start_time": "2023-10-19T13:19:36.136Z"
   },
   {
    "duration": 598,
    "start_time": "2023-10-19T13:20:03.767Z"
   },
   {
    "duration": 767,
    "start_time": "2023-10-19T13:20:18.283Z"
   },
   {
    "duration": 12,
    "start_time": "2023-10-19T13:20:29.993Z"
   },
   {
    "duration": 7,
    "start_time": "2023-10-19T13:21:02.618Z"
   },
   {
    "duration": 13,
    "start_time": "2023-10-19T13:21:09.115Z"
   },
   {
    "duration": 14,
    "start_time": "2023-10-19T13:21:19.029Z"
   },
   {
    "duration": 134,
    "start_time": "2023-10-19T13:25:13.856Z"
   },
   {
    "duration": 12,
    "start_time": "2023-10-19T13:25:14.333Z"
   },
   {
    "duration": 23,
    "start_time": "2023-10-19T13:25:22.590Z"
   },
   {
    "duration": 122,
    "start_time": "2023-10-19T13:25:22.949Z"
   },
   {
    "duration": 5,
    "start_time": "2023-10-19T13:25:27.784Z"
   },
   {
    "duration": 9,
    "start_time": "2023-10-19T13:25:28.457Z"
   },
   {
    "duration": 17,
    "start_time": "2023-10-19T13:28:49.679Z"
   },
   {
    "duration": 23,
    "start_time": "2023-10-19T13:29:03.899Z"
   },
   {
    "duration": 33,
    "start_time": "2023-10-19T13:29:37.815Z"
   },
   {
    "duration": 5,
    "start_time": "2023-10-19T13:29:43.929Z"
   },
   {
    "duration": 11,
    "start_time": "2023-10-19T13:29:44.557Z"
   },
   {
    "duration": 9,
    "start_time": "2023-10-19T13:29:55.680Z"
   },
   {
    "duration": 15,
    "start_time": "2023-10-19T13:29:56.665Z"
   },
   {
    "duration": 7,
    "start_time": "2023-10-19T13:30:04.334Z"
   },
   {
    "duration": 1432,
    "start_time": "2023-10-19T13:30:10.687Z"
   },
   {
    "duration": 4,
    "start_time": "2023-10-19T13:30:12.121Z"
   },
   {
    "duration": 26,
    "start_time": "2023-10-19T13:30:12.127Z"
   },
   {
    "duration": 24,
    "start_time": "2023-10-19T13:30:12.155Z"
   },
   {
    "duration": 67,
    "start_time": "2023-10-19T13:30:12.183Z"
   },
   {
    "duration": 14,
    "start_time": "2023-10-19T13:30:12.252Z"
   },
   {
    "duration": 47,
    "start_time": "2023-10-19T13:30:12.269Z"
   },
   {
    "duration": 39,
    "start_time": "2023-10-19T13:30:12.318Z"
   },
   {
    "duration": 35,
    "start_time": "2023-10-19T13:30:12.358Z"
   },
   {
    "duration": 21,
    "start_time": "2023-10-19T13:30:12.398Z"
   },
   {
    "duration": 29,
    "start_time": "2023-10-19T13:30:12.420Z"
   },
   {
    "duration": 19,
    "start_time": "2023-10-19T13:30:12.452Z"
   },
   {
    "duration": 24,
    "start_time": "2023-10-19T13:30:12.473Z"
   },
   {
    "duration": 325,
    "start_time": "2023-10-19T13:30:12.499Z"
   },
   {
    "duration": 333,
    "start_time": "2023-10-19T13:30:12.826Z"
   },
   {
    "duration": 252,
    "start_time": "2023-10-19T13:30:13.161Z"
   },
   {
    "duration": 311,
    "start_time": "2023-10-19T13:30:13.418Z"
   },
   {
    "duration": 251,
    "start_time": "2023-10-19T13:30:13.731Z"
   },
   {
    "duration": 355,
    "start_time": "2023-10-19T13:30:13.984Z"
   },
   {
    "duration": 178,
    "start_time": "2023-10-19T13:30:14.341Z"
   },
   {
    "duration": 6,
    "start_time": "2023-10-19T13:30:14.521Z"
   },
   {
    "duration": 199,
    "start_time": "2023-10-19T13:30:14.529Z"
   },
   {
    "duration": 8,
    "start_time": "2023-10-19T13:30:14.730Z"
   },
   {
    "duration": 493,
    "start_time": "2023-10-19T13:30:14.740Z"
   },
   {
    "duration": 13,
    "start_time": "2023-10-19T13:30:15.235Z"
   },
   {
    "duration": 63,
    "start_time": "2023-10-19T13:30:15.250Z"
   },
   {
    "duration": 17,
    "start_time": "2023-10-19T13:30:15.318Z"
   },
   {
    "duration": 15,
    "start_time": "2023-10-19T13:50:45.283Z"
   },
   {
    "duration": 1306,
    "start_time": "2023-10-19T13:50:59.723Z"
   },
   {
    "duration": 4,
    "start_time": "2023-10-19T13:51:01.031Z"
   },
   {
    "duration": 86,
    "start_time": "2023-10-19T13:51:01.037Z"
   },
   {
    "duration": 71,
    "start_time": "2023-10-19T13:51:01.125Z"
   },
   {
    "duration": 147,
    "start_time": "2023-10-19T13:51:01.198Z"
   },
   {
    "duration": 75,
    "start_time": "2023-10-19T13:51:01.346Z"
   },
   {
    "duration": 193,
    "start_time": "2023-10-19T13:51:01.423Z"
   },
   {
    "duration": 79,
    "start_time": "2023-10-19T13:51:01.618Z"
   },
   {
    "duration": 23,
    "start_time": "2023-10-19T13:51:01.699Z"
   },
   {
    "duration": 67,
    "start_time": "2023-10-19T13:51:01.724Z"
   },
   {
    "duration": 78,
    "start_time": "2023-10-19T13:51:01.793Z"
   },
   {
    "duration": 24,
    "start_time": "2023-10-19T13:51:01.873Z"
   },
   {
    "duration": 47,
    "start_time": "2023-10-19T13:51:01.899Z"
   },
   {
    "duration": 341,
    "start_time": "2023-10-19T13:51:01.949Z"
   },
   {
    "duration": 315,
    "start_time": "2023-10-19T13:51:02.292Z"
   },
   {
    "duration": 228,
    "start_time": "2023-10-19T13:51:02.609Z"
   },
   {
    "duration": 286,
    "start_time": "2023-10-19T13:51:02.839Z"
   },
   {
    "duration": 241,
    "start_time": "2023-10-19T13:51:03.127Z"
   },
   {
    "duration": 361,
    "start_time": "2023-10-19T13:51:03.371Z"
   },
   {
    "duration": 171,
    "start_time": "2023-10-19T13:51:03.735Z"
   },
   {
    "duration": 5,
    "start_time": "2023-10-19T13:51:03.909Z"
   },
   {
    "duration": 155,
    "start_time": "2023-10-19T13:51:03.915Z"
   },
   {
    "duration": 6,
    "start_time": "2023-10-19T13:51:04.071Z"
   },
   {
    "duration": 396,
    "start_time": "2023-10-19T13:51:04.078Z"
   },
   {
    "duration": 28,
    "start_time": "2023-10-19T13:51:04.476Z"
   },
   {
    "duration": 36,
    "start_time": "2023-10-19T13:51:04.506Z"
   },
   {
    "duration": 24,
    "start_time": "2023-10-19T13:51:04.544Z"
   },
   {
    "duration": 209,
    "start_time": "2023-10-19T13:52:20.178Z"
   },
   {
    "duration": 343,
    "start_time": "2023-10-19T13:52:25.708Z"
   },
   {
    "duration": 230,
    "start_time": "2023-10-19T13:52:44.403Z"
   },
   {
    "duration": 193,
    "start_time": "2023-10-19T13:53:17.827Z"
   },
   {
    "duration": 303,
    "start_time": "2023-10-19T13:53:30.023Z"
   },
   {
    "duration": 251,
    "start_time": "2023-10-19T13:53:35.877Z"
   },
   {
    "duration": 16,
    "start_time": "2023-10-19T13:58:24.028Z"
   },
   {
    "duration": 8,
    "start_time": "2023-10-19T13:58:24.658Z"
   },
   {
    "duration": 15,
    "start_time": "2023-10-19T13:58:25.212Z"
   },
   {
    "duration": 270,
    "start_time": "2023-10-19T14:11:35.881Z"
   },
   {
    "duration": 139,
    "start_time": "2023-10-19T14:14:47.845Z"
   },
   {
    "duration": 266,
    "start_time": "2023-10-19T14:15:17.354Z"
   },
   {
    "duration": 357,
    "start_time": "2023-10-19T14:15:40.387Z"
   },
   {
    "duration": 340,
    "start_time": "2023-10-19T14:16:11.123Z"
   },
   {
    "duration": 344,
    "start_time": "2023-10-19T14:16:25.213Z"
   },
   {
    "duration": 156,
    "start_time": "2023-10-19T14:20:08.456Z"
   },
   {
    "duration": 275,
    "start_time": "2023-10-19T14:20:53.380Z"
   },
   {
    "duration": 330,
    "start_time": "2023-10-19T14:21:34.883Z"
   },
   {
    "duration": 202,
    "start_time": "2023-10-19T14:21:52.164Z"
   },
   {
    "duration": 395,
    "start_time": "2023-10-19T14:31:38.129Z"
   },
   {
    "duration": 301,
    "start_time": "2023-10-19T14:32:52.160Z"
   },
   {
    "duration": 243,
    "start_time": "2023-10-19T14:33:14.646Z"
   },
   {
    "duration": 217,
    "start_time": "2023-10-19T14:33:42.225Z"
   },
   {
    "duration": 5,
    "start_time": "2023-10-19T14:33:51.931Z"
   },
   {
    "duration": 162,
    "start_time": "2023-10-19T14:34:54.556Z"
   },
   {
    "duration": 134,
    "start_time": "2023-10-19T14:35:27.192Z"
   },
   {
    "duration": 219,
    "start_time": "2023-10-19T14:36:09.973Z"
   },
   {
    "duration": 199,
    "start_time": "2023-10-19T14:36:58.397Z"
   },
   {
    "duration": 192,
    "start_time": "2023-10-19T14:37:12.269Z"
   },
   {
    "duration": 198,
    "start_time": "2023-10-19T14:37:22.535Z"
   },
   {
    "duration": 206,
    "start_time": "2023-10-19T14:37:44.456Z"
   },
   {
    "duration": 200,
    "start_time": "2023-10-19T14:37:46.081Z"
   },
   {
    "duration": 171,
    "start_time": "2023-10-19T14:38:01.385Z"
   },
   {
    "duration": 196,
    "start_time": "2023-10-19T14:38:10.718Z"
   },
   {
    "duration": 198,
    "start_time": "2023-10-19T14:38:11.103Z"
   },
   {
    "duration": 231,
    "start_time": "2023-10-19T14:38:44.870Z"
   },
   {
    "duration": 92,
    "start_time": "2023-10-19T14:39:13.331Z"
   },
   {
    "duration": 5,
    "start_time": "2023-10-19T14:39:41.732Z"
   },
   {
    "duration": 1228,
    "start_time": "2023-10-19T14:40:06.610Z"
   },
   {
    "duration": 4,
    "start_time": "2023-10-19T14:40:07.840Z"
   },
   {
    "duration": 40,
    "start_time": "2023-10-19T14:40:07.845Z"
   },
   {
    "duration": 13,
    "start_time": "2023-10-19T14:40:07.887Z"
   },
   {
    "duration": 65,
    "start_time": "2023-10-19T14:40:07.901Z"
   },
   {
    "duration": 11,
    "start_time": "2023-10-19T14:40:07.968Z"
   },
   {
    "duration": 33,
    "start_time": "2023-10-19T14:40:07.981Z"
   },
   {
    "duration": 44,
    "start_time": "2023-10-19T14:40:08.015Z"
   },
   {
    "duration": 14,
    "start_time": "2023-10-19T14:40:08.061Z"
   },
   {
    "duration": 19,
    "start_time": "2023-10-19T14:40:08.078Z"
   },
   {
    "duration": 48,
    "start_time": "2023-10-19T14:40:08.098Z"
   },
   {
    "duration": 23,
    "start_time": "2023-10-19T14:40:08.148Z"
   },
   {
    "duration": 50,
    "start_time": "2023-10-19T14:40:08.173Z"
   },
   {
    "duration": 302,
    "start_time": "2023-10-19T14:40:08.225Z"
   },
   {
    "duration": 377,
    "start_time": "2023-10-19T14:40:08.529Z"
   },
   {
    "duration": 279,
    "start_time": "2023-10-19T14:40:08.908Z"
   },
   {
    "duration": 361,
    "start_time": "2023-10-19T14:40:09.189Z"
   },
   {
    "duration": 286,
    "start_time": "2023-10-19T14:40:09.551Z"
   },
   {
    "duration": 409,
    "start_time": "2023-10-19T14:40:09.839Z"
   },
   {
    "duration": 222,
    "start_time": "2023-10-19T14:40:10.250Z"
   },
   {
    "duration": 6,
    "start_time": "2023-10-19T14:40:10.473Z"
   },
   {
    "duration": 213,
    "start_time": "2023-10-19T14:40:10.480Z"
   },
   {
    "duration": 216,
    "start_time": "2023-10-19T14:40:10.695Z"
   },
   {
    "duration": 7,
    "start_time": "2023-10-19T14:40:10.913Z"
   },
   {
    "duration": 463,
    "start_time": "2023-10-19T14:40:10.922Z"
   },
   {
    "duration": 30,
    "start_time": "2023-10-19T14:40:11.387Z"
   },
   {
    "duration": 51,
    "start_time": "2023-10-19T14:40:11.419Z"
   },
   {
    "duration": 14,
    "start_time": "2023-10-19T14:40:11.473Z"
   },
   {
    "duration": 436,
    "start_time": "2023-10-19T14:50:13.085Z"
   },
   {
    "duration": 4,
    "start_time": "2023-10-19T14:50:49.552Z"
   },
   {
    "duration": 5,
    "start_time": "2023-10-19T14:51:02.478Z"
   },
   {
    "duration": 108,
    "start_time": "2023-10-19T14:51:32.301Z"
   },
   {
    "duration": 369,
    "start_time": "2023-10-19T14:53:11.404Z"
   },
   {
    "duration": 159,
    "start_time": "2023-10-19T14:53:53.812Z"
   },
   {
    "duration": 29,
    "start_time": "2023-10-19T14:55:23.106Z"
   },
   {
    "duration": 14,
    "start_time": "2023-10-19T14:55:57.064Z"
   },
   {
    "duration": 1220,
    "start_time": "2023-10-19T15:09:11.110Z"
   },
   {
    "duration": 3,
    "start_time": "2023-10-19T15:09:12.333Z"
   },
   {
    "duration": 31,
    "start_time": "2023-10-19T15:09:12.338Z"
   },
   {
    "duration": 13,
    "start_time": "2023-10-19T15:09:12.372Z"
   },
   {
    "duration": 62,
    "start_time": "2023-10-19T15:09:12.386Z"
   },
   {
    "duration": 12,
    "start_time": "2023-10-19T15:09:12.450Z"
   },
   {
    "duration": 22,
    "start_time": "2023-10-19T15:09:12.463Z"
   },
   {
    "duration": 39,
    "start_time": "2023-10-19T15:09:12.487Z"
   },
   {
    "duration": 44,
    "start_time": "2023-10-19T15:09:12.528Z"
   },
   {
    "duration": 16,
    "start_time": "2023-10-19T15:09:12.574Z"
   },
   {
    "duration": 31,
    "start_time": "2023-10-19T15:09:12.592Z"
   },
   {
    "duration": 13,
    "start_time": "2023-10-19T15:09:12.624Z"
   },
   {
    "duration": 34,
    "start_time": "2023-10-19T15:09:12.639Z"
   },
   {
    "duration": 278,
    "start_time": "2023-10-19T15:09:12.674Z"
   },
   {
    "duration": 366,
    "start_time": "2023-10-19T15:09:12.954Z"
   },
   {
    "duration": 288,
    "start_time": "2023-10-19T15:09:13.322Z"
   },
   {
    "duration": 357,
    "start_time": "2023-10-19T15:09:13.612Z"
   },
   {
    "duration": 302,
    "start_time": "2023-10-19T15:09:13.970Z"
   },
   {
    "duration": 445,
    "start_time": "2023-10-19T15:09:14.274Z"
   },
   {
    "duration": 229,
    "start_time": "2023-10-19T15:09:14.721Z"
   },
   {
    "duration": 6,
    "start_time": "2023-10-19T15:09:14.952Z"
   },
   {
    "duration": 238,
    "start_time": "2023-10-19T15:09:14.960Z"
   },
   {
    "duration": 217,
    "start_time": "2023-10-19T15:09:15.199Z"
   },
   {
    "duration": 5,
    "start_time": "2023-10-19T15:09:15.418Z"
   },
   {
    "duration": 466,
    "start_time": "2023-10-19T15:09:15.425Z"
   },
   {
    "duration": 15,
    "start_time": "2023-10-19T15:09:15.893Z"
   },
   {
    "duration": 57,
    "start_time": "2023-10-19T15:09:15.909Z"
   },
   {
    "duration": 32,
    "start_time": "2023-10-19T15:09:15.971Z"
   },
   {
    "duration": 1200,
    "start_time": "2023-10-19T19:26:36.329Z"
   },
   {
    "duration": 3,
    "start_time": "2023-10-19T19:26:37.530Z"
   },
   {
    "duration": 17,
    "start_time": "2023-10-19T19:26:37.535Z"
   },
   {
    "duration": 9,
    "start_time": "2023-10-19T19:26:37.553Z"
   },
   {
    "duration": 95,
    "start_time": "2023-10-19T19:26:37.563Z"
   },
   {
    "duration": 9,
    "start_time": "2023-10-19T19:26:37.659Z"
   },
   {
    "duration": 5,
    "start_time": "2023-10-19T19:26:37.669Z"
   },
   {
    "duration": 59,
    "start_time": "2023-10-19T19:26:37.676Z"
   },
   {
    "duration": 9,
    "start_time": "2023-10-19T19:26:37.736Z"
   },
   {
    "duration": 4,
    "start_time": "2023-10-19T19:26:37.747Z"
   },
   {
    "duration": 11,
    "start_time": "2023-10-19T19:26:37.752Z"
   },
   {
    "duration": 5,
    "start_time": "2023-10-19T19:26:37.764Z"
   },
   {
    "duration": 10,
    "start_time": "2023-10-19T19:26:37.770Z"
   },
   {
    "duration": 284,
    "start_time": "2023-10-19T19:26:37.782Z"
   },
   {
    "duration": 303,
    "start_time": "2023-10-19T19:26:38.067Z"
   },
   {
    "duration": 236,
    "start_time": "2023-10-19T19:26:38.372Z"
   },
   {
    "duration": 379,
    "start_time": "2023-10-19T19:26:38.610Z"
   },
   {
    "duration": 263,
    "start_time": "2023-10-19T19:26:38.990Z"
   },
   {
    "duration": 327,
    "start_time": "2023-10-19T19:26:39.255Z"
   },
   {
    "duration": 183,
    "start_time": "2023-10-19T19:26:39.583Z"
   },
   {
    "duration": 6,
    "start_time": "2023-10-19T19:26:39.768Z"
   },
   {
    "duration": 174,
    "start_time": "2023-10-19T19:26:39.775Z"
   },
   {
    "duration": 189,
    "start_time": "2023-10-19T19:26:39.950Z"
   },
   {
    "duration": 4,
    "start_time": "2023-10-19T19:26:40.141Z"
   },
   {
    "duration": 379,
    "start_time": "2023-10-19T19:26:40.146Z"
   },
   {
    "duration": 14,
    "start_time": "2023-10-19T19:26:40.526Z"
   },
   {
    "duration": 24,
    "start_time": "2023-10-19T19:26:40.541Z"
   },
   {
    "duration": 11,
    "start_time": "2023-10-19T19:26:40.567Z"
   },
   {
    "duration": 211,
    "start_time": "2023-10-19T19:37:28.771Z"
   },
   {
    "duration": 214,
    "start_time": "2023-10-19T19:37:31.692Z"
   },
   {
    "duration": 60,
    "start_time": "2023-10-19T22:01:25.977Z"
   },
   {
    "duration": 1660,
    "start_time": "2023-10-19T22:01:31.286Z"
   },
   {
    "duration": 3,
    "start_time": "2023-10-19T22:01:32.948Z"
   },
   {
    "duration": 22,
    "start_time": "2023-10-19T22:01:32.952Z"
   },
   {
    "duration": 20,
    "start_time": "2023-10-19T22:01:32.975Z"
   },
   {
    "duration": 107,
    "start_time": "2023-10-19T22:01:32.997Z"
   },
   {
    "duration": 10,
    "start_time": "2023-10-19T22:01:33.106Z"
   },
   {
    "duration": 30,
    "start_time": "2023-10-19T22:01:33.118Z"
   },
   {
    "duration": 74,
    "start_time": "2023-10-19T22:01:33.149Z"
   },
   {
    "duration": 10,
    "start_time": "2023-10-19T22:01:33.225Z"
   },
   {
    "duration": 29,
    "start_time": "2023-10-19T22:01:33.237Z"
   },
   {
    "duration": 29,
    "start_time": "2023-10-19T22:01:33.268Z"
   },
   {
    "duration": 12,
    "start_time": "2023-10-19T22:01:33.299Z"
   },
   {
    "duration": 28,
    "start_time": "2023-10-19T22:01:33.312Z"
   },
   {
    "duration": 279,
    "start_time": "2023-10-19T22:01:33.343Z"
   },
   {
    "duration": 312,
    "start_time": "2023-10-19T22:01:33.624Z"
   },
   {
    "duration": 228,
    "start_time": "2023-10-19T22:01:33.938Z"
   },
   {
    "duration": 403,
    "start_time": "2023-10-19T22:01:34.168Z"
   },
   {
    "duration": 282,
    "start_time": "2023-10-19T22:01:34.572Z"
   },
   {
    "duration": 329,
    "start_time": "2023-10-19T22:01:34.856Z"
   },
   {
    "duration": 199,
    "start_time": "2023-10-19T22:01:35.187Z"
   },
   {
    "duration": 5,
    "start_time": "2023-10-19T22:01:35.387Z"
   },
   {
    "duration": 209,
    "start_time": "2023-10-19T22:01:35.407Z"
   },
   {
    "duration": 190,
    "start_time": "2023-10-19T22:01:35.617Z"
   },
   {
    "duration": 5,
    "start_time": "2023-10-19T22:01:35.808Z"
   },
   {
    "duration": 467,
    "start_time": "2023-10-19T22:01:35.815Z"
   },
   {
    "duration": 10,
    "start_time": "2023-10-19T22:01:36.284Z"
   },
   {
    "duration": 30,
    "start_time": "2023-10-19T22:01:36.306Z"
   },
   {
    "duration": 13,
    "start_time": "2023-10-19T22:01:36.337Z"
   },
   {
    "duration": 285,
    "start_time": "2023-10-19T22:02:23.848Z"
   },
   {
    "duration": 232,
    "start_time": "2023-10-19T22:02:32.948Z"
   },
   {
    "duration": 318,
    "start_time": "2023-10-19T22:02:41.354Z"
   },
   {
    "duration": 175,
    "start_time": "2023-10-19T22:02:52.235Z"
   },
   {
    "duration": 170,
    "start_time": "2023-10-19T22:03:01.212Z"
   }
  ],
  "kernelspec": {
   "display_name": "Python 3 (ipykernel)",
   "language": "python",
   "name": "python3"
  },
  "language_info": {
   "codemirror_mode": {
    "name": "ipython",
    "version": 3
   },
   "file_extension": ".py",
   "mimetype": "text/x-python",
   "name": "python",
   "nbconvert_exporter": "python",
   "pygments_lexer": "ipython3",
   "version": "3.9.5"
  },
  "toc": {
   "base_numbering": 1,
   "nav_menu": {},
   "number_sections": true,
   "sideBar": true,
   "skip_h1_title": true,
   "title_cell": "Table of Contents",
   "title_sidebar": "Contents",
   "toc_cell": false,
   "toc_position": {},
   "toc_section_display": true,
   "toc_window_display": false
  }
 },
 "nbformat": 4,
 "nbformat_minor": 2
}
